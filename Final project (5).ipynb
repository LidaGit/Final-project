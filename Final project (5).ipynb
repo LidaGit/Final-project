{
 "cells": [
  {
   "cell_type": "markdown",
   "metadata": {},
   "source": [
    "Exploratory data analysis(EDA )"
   ]
  },
  {
   "cell_type": "markdown",
   "metadata": {},
   "source": [
    "Цель этапа - cформулировать предположения и гипотезы для построения модели. Проверить качество данных и очистить их. Определиться с параметрами модели."
   ]
  },
  {
   "cell_type": "code",
   "execution_count": 832,
   "metadata": {},
   "outputs": [],
   "source": [
    "import pandas as pd\n",
    "import matplotlib.pyplot as plt\n",
    "import seaborn as sns\n",
    "import numpy as np\n",
    "import re\n",
    "from itertools import combinations\n",
    "from scipy.stats import ttest_ind\n",
    "\n",
    "pd.set_option('display.max_rows', 50) # показывать больше строк\n",
    "pd.set_option('display.max_columns', 50) # показывать больше колонок\n",
    "\n",
    "dataset = pd.read_csv('data.csv')"
   ]
  },
  {
   "cell_type": "code",
   "execution_count": 710,
   "metadata": {},
   "outputs": [
    {
     "data": {
      "text/html": [
       "<div>\n",
       "<style scoped>\n",
       "    .dataframe tbody tr th:only-of-type {\n",
       "        vertical-align: middle;\n",
       "    }\n",
       "\n",
       "    .dataframe tbody tr th {\n",
       "        vertical-align: top;\n",
       "    }\n",
       "\n",
       "    .dataframe thead th {\n",
       "        text-align: right;\n",
       "    }\n",
       "</style>\n",
       "<table border=\"1\" class=\"dataframe\">\n",
       "  <thead>\n",
       "    <tr style=\"text-align: right;\">\n",
       "      <th></th>\n",
       "      <th>status</th>\n",
       "      <th>private pool</th>\n",
       "      <th>propertyType</th>\n",
       "      <th>street</th>\n",
       "      <th>baths</th>\n",
       "      <th>homeFacts</th>\n",
       "      <th>fireplace</th>\n",
       "      <th>city</th>\n",
       "      <th>schools</th>\n",
       "      <th>sqft</th>\n",
       "      <th>zipcode</th>\n",
       "      <th>beds</th>\n",
       "      <th>state</th>\n",
       "      <th>stories</th>\n",
       "      <th>mls-id</th>\n",
       "      <th>PrivatePool</th>\n",
       "      <th>MlsId</th>\n",
       "      <th>target</th>\n",
       "    </tr>\n",
       "  </thead>\n",
       "  <tbody>\n",
       "    <tr>\n",
       "      <td>0</td>\n",
       "      <td>Active</td>\n",
       "      <td>NaN</td>\n",
       "      <td>Single Family Home</td>\n",
       "      <td>240 Heather Ln</td>\n",
       "      <td>3.5</td>\n",
       "      <td>{'atAGlanceFacts': [{'factValue': '2019', 'fac...</td>\n",
       "      <td>Gas Logs</td>\n",
       "      <td>Southern Pines</td>\n",
       "      <td>[{'rating': ['4', '4', '7', 'NR', '4', '7', 'N...</td>\n",
       "      <td>2900</td>\n",
       "      <td>28387</td>\n",
       "      <td>4</td>\n",
       "      <td>NC</td>\n",
       "      <td>NaN</td>\n",
       "      <td>NaN</td>\n",
       "      <td>NaN</td>\n",
       "      <td>611019</td>\n",
       "      <td>$418,000</td>\n",
       "    </tr>\n",
       "    <tr>\n",
       "      <td>1</td>\n",
       "      <td>for sale</td>\n",
       "      <td>NaN</td>\n",
       "      <td>single-family home</td>\n",
       "      <td>12911 E Heroy Ave</td>\n",
       "      <td>3 Baths</td>\n",
       "      <td>{'atAGlanceFacts': [{'factValue': '2019', 'fac...</td>\n",
       "      <td>NaN</td>\n",
       "      <td>Spokane Valley</td>\n",
       "      <td>[{'rating': ['4/10', 'None/10', '4/10'], 'data...</td>\n",
       "      <td>1,947 sqft</td>\n",
       "      <td>99216</td>\n",
       "      <td>3 Beds</td>\n",
       "      <td>WA</td>\n",
       "      <td>2.0</td>\n",
       "      <td>NaN</td>\n",
       "      <td>NaN</td>\n",
       "      <td>201916904</td>\n",
       "      <td>$310,000</td>\n",
       "    </tr>\n",
       "    <tr>\n",
       "      <td>2</td>\n",
       "      <td>for sale</td>\n",
       "      <td>NaN</td>\n",
       "      <td>single-family home</td>\n",
       "      <td>2005 Westridge Rd</td>\n",
       "      <td>2 Baths</td>\n",
       "      <td>{'atAGlanceFacts': [{'factValue': '1961', 'fac...</td>\n",
       "      <td>yes</td>\n",
       "      <td>Los Angeles</td>\n",
       "      <td>[{'rating': ['8/10', '4/10', '8/10'], 'data': ...</td>\n",
       "      <td>3,000 sqft</td>\n",
       "      <td>90049</td>\n",
       "      <td>3 Beds</td>\n",
       "      <td>CA</td>\n",
       "      <td>1.0</td>\n",
       "      <td>NaN</td>\n",
       "      <td>yes</td>\n",
       "      <td>FR19221027</td>\n",
       "      <td>$2,895,000</td>\n",
       "    </tr>\n",
       "    <tr>\n",
       "      <td>3</td>\n",
       "      <td>for sale</td>\n",
       "      <td>NaN</td>\n",
       "      <td>single-family home</td>\n",
       "      <td>4311 Livingston Ave</td>\n",
       "      <td>8 Baths</td>\n",
       "      <td>{'atAGlanceFacts': [{'factValue': '2006', 'fac...</td>\n",
       "      <td>yes</td>\n",
       "      <td>Dallas</td>\n",
       "      <td>[{'rating': ['9/10', '9/10', '10/10', '9/10'],...</td>\n",
       "      <td>6,457 sqft</td>\n",
       "      <td>75205</td>\n",
       "      <td>5 Beds</td>\n",
       "      <td>TX</td>\n",
       "      <td>3.0</td>\n",
       "      <td>NaN</td>\n",
       "      <td>NaN</td>\n",
       "      <td>14191809</td>\n",
       "      <td>$2,395,000</td>\n",
       "    </tr>\n",
       "    <tr>\n",
       "      <td>4</td>\n",
       "      <td>for sale</td>\n",
       "      <td>NaN</td>\n",
       "      <td>lot/land</td>\n",
       "      <td>1524 Kiscoe St</td>\n",
       "      <td>NaN</td>\n",
       "      <td>{'atAGlanceFacts': [{'factValue': '', 'factLab...</td>\n",
       "      <td>NaN</td>\n",
       "      <td>Palm Bay</td>\n",
       "      <td>[{'rating': ['4/10', '5/10', '5/10'], 'data': ...</td>\n",
       "      <td>NaN</td>\n",
       "      <td>32908</td>\n",
       "      <td>NaN</td>\n",
       "      <td>FL</td>\n",
       "      <td>NaN</td>\n",
       "      <td>NaN</td>\n",
       "      <td>NaN</td>\n",
       "      <td>861745</td>\n",
       "      <td>$5,000</td>\n",
       "    </tr>\n",
       "    <tr>\n",
       "      <td>5</td>\n",
       "      <td>for sale</td>\n",
       "      <td>NaN</td>\n",
       "      <td>townhouse</td>\n",
       "      <td>1624 S Newkirk St</td>\n",
       "      <td>NaN</td>\n",
       "      <td>{'atAGlanceFacts': [{'factValue': '1920', 'fac...</td>\n",
       "      <td>NaN</td>\n",
       "      <td>Philadelphia</td>\n",
       "      <td>[{'rating': [], 'data': {'Distance': [], 'Grad...</td>\n",
       "      <td>897 sqft</td>\n",
       "      <td>19145</td>\n",
       "      <td>2 Beds</td>\n",
       "      <td>PA</td>\n",
       "      <td>2.0</td>\n",
       "      <td>NaN</td>\n",
       "      <td>NaN</td>\n",
       "      <td>PAPH847006</td>\n",
       "      <td>$209,000</td>\n",
       "    </tr>\n",
       "    <tr>\n",
       "      <td>6</td>\n",
       "      <td>Active</td>\n",
       "      <td>NaN</td>\n",
       "      <td>Florida</td>\n",
       "      <td>552 Casanova Ct</td>\n",
       "      <td>NaN</td>\n",
       "      <td>{'atAGlanceFacts': [{'factValue': '2006', 'fac...</td>\n",
       "      <td>NaN</td>\n",
       "      <td>POINCIANA</td>\n",
       "      <td>[{'rating': ['3', '3', '1', 'NR'], 'data': {'D...</td>\n",
       "      <td>1,507</td>\n",
       "      <td>34759</td>\n",
       "      <td>NaN</td>\n",
       "      <td>FL</td>\n",
       "      <td>One</td>\n",
       "      <td>NaN</td>\n",
       "      <td>NaN</td>\n",
       "      <td>S5026943</td>\n",
       "      <td>181,500</td>\n",
       "    </tr>\n",
       "    <tr>\n",
       "      <td>7</td>\n",
       "      <td>Active</td>\n",
       "      <td>NaN</td>\n",
       "      <td>NaN</td>\n",
       "      <td>6094 Mingle Dr</td>\n",
       "      <td>NaN</td>\n",
       "      <td>{'atAGlanceFacts': [{'factValue': '1976', 'fac...</td>\n",
       "      <td>NaN</td>\n",
       "      <td>Memphis</td>\n",
       "      <td>[{'rating': ['4', '2', '2'], 'data': {'Distanc...</td>\n",
       "      <td>NaN</td>\n",
       "      <td>38115</td>\n",
       "      <td>NaN</td>\n",
       "      <td>TN</td>\n",
       "      <td>NaN</td>\n",
       "      <td>NaN</td>\n",
       "      <td>NaN</td>\n",
       "      <td>10063506</td>\n",
       "      <td>68,000</td>\n",
       "    </tr>\n",
       "    <tr>\n",
       "      <td>8</td>\n",
       "      <td>Active</td>\n",
       "      <td>NaN</td>\n",
       "      <td>Single Family Home</td>\n",
       "      <td>11182 Owl Ave</td>\n",
       "      <td>2</td>\n",
       "      <td>{'atAGlanceFacts': [{'factValue': '1970', 'fac...</td>\n",
       "      <td>NaN</td>\n",
       "      <td>Mason City</td>\n",
       "      <td>[{'rating': ['2', '2', '4', '7', '4', 'NR'], '...</td>\n",
       "      <td>3588</td>\n",
       "      <td>50401</td>\n",
       "      <td>3</td>\n",
       "      <td>IA</td>\n",
       "      <td>NaN</td>\n",
       "      <td>NaN</td>\n",
       "      <td>NaN</td>\n",
       "      <td>190988</td>\n",
       "      <td>$244,900</td>\n",
       "    </tr>\n",
       "    <tr>\n",
       "      <td>9</td>\n",
       "      <td>NaN</td>\n",
       "      <td>NaN</td>\n",
       "      <td>Single Family</td>\n",
       "      <td>8612 Cedar Plains Ln</td>\n",
       "      <td>3</td>\n",
       "      <td>{'atAGlanceFacts': [{'factValue': '2019', 'fac...</td>\n",
       "      <td>NaN</td>\n",
       "      <td>Houston</td>\n",
       "      <td>[{'rating': ['4/10', '3/10', '2/10'], 'data': ...</td>\n",
       "      <td>1,930</td>\n",
       "      <td>77080</td>\n",
       "      <td>3</td>\n",
       "      <td>TX</td>\n",
       "      <td>2.0</td>\n",
       "      <td>NaN</td>\n",
       "      <td>NaN</td>\n",
       "      <td>73968331</td>\n",
       "      <td>$311,995</td>\n",
       "    </tr>\n",
       "  </tbody>\n",
       "</table>\n",
       "</div>"
      ],
      "text/plain": [
       "     status private pool        propertyType                street    baths  \\\n",
       "0    Active          NaN  Single Family Home        240 Heather Ln      3.5   \n",
       "1  for sale          NaN  single-family home     12911 E Heroy Ave  3 Baths   \n",
       "2  for sale          NaN  single-family home     2005 Westridge Rd  2 Baths   \n",
       "3  for sale          NaN  single-family home   4311 Livingston Ave  8 Baths   \n",
       "4  for sale          NaN            lot/land        1524 Kiscoe St      NaN   \n",
       "5  for sale          NaN           townhouse     1624 S Newkirk St      NaN   \n",
       "6    Active          NaN             Florida      552 Casanova Ct       NaN   \n",
       "7    Active          NaN                 NaN       6094 Mingle Dr       NaN   \n",
       "8    Active          NaN  Single Family Home         11182 Owl Ave        2   \n",
       "9       NaN          NaN       Single Family  8612 Cedar Plains Ln        3   \n",
       "\n",
       "                                           homeFacts fireplace  \\\n",
       "0  {'atAGlanceFacts': [{'factValue': '2019', 'fac...  Gas Logs   \n",
       "1  {'atAGlanceFacts': [{'factValue': '2019', 'fac...       NaN   \n",
       "2  {'atAGlanceFacts': [{'factValue': '1961', 'fac...       yes   \n",
       "3  {'atAGlanceFacts': [{'factValue': '2006', 'fac...       yes   \n",
       "4  {'atAGlanceFacts': [{'factValue': '', 'factLab...       NaN   \n",
       "5  {'atAGlanceFacts': [{'factValue': '1920', 'fac...       NaN   \n",
       "6  {'atAGlanceFacts': [{'factValue': '2006', 'fac...       NaN   \n",
       "7  {'atAGlanceFacts': [{'factValue': '1976', 'fac...       NaN   \n",
       "8  {'atAGlanceFacts': [{'factValue': '1970', 'fac...       NaN   \n",
       "9  {'atAGlanceFacts': [{'factValue': '2019', 'fac...       NaN   \n",
       "\n",
       "             city                                            schools  \\\n",
       "0  Southern Pines  [{'rating': ['4', '4', '7', 'NR', '4', '7', 'N...   \n",
       "1  Spokane Valley  [{'rating': ['4/10', 'None/10', '4/10'], 'data...   \n",
       "2     Los Angeles  [{'rating': ['8/10', '4/10', '8/10'], 'data': ...   \n",
       "3          Dallas  [{'rating': ['9/10', '9/10', '10/10', '9/10'],...   \n",
       "4        Palm Bay  [{'rating': ['4/10', '5/10', '5/10'], 'data': ...   \n",
       "5    Philadelphia  [{'rating': [], 'data': {'Distance': [], 'Grad...   \n",
       "6       POINCIANA  [{'rating': ['3', '3', '1', 'NR'], 'data': {'D...   \n",
       "7         Memphis  [{'rating': ['4', '2', '2'], 'data': {'Distanc...   \n",
       "8      Mason City  [{'rating': ['2', '2', '4', '7', '4', 'NR'], '...   \n",
       "9         Houston  [{'rating': ['4/10', '3/10', '2/10'], 'data': ...   \n",
       "\n",
       "         sqft zipcode    beds state stories mls-id PrivatePool       MlsId  \\\n",
       "0        2900   28387       4    NC     NaN    NaN         NaN      611019   \n",
       "1  1,947 sqft   99216  3 Beds    WA     2.0    NaN         NaN   201916904   \n",
       "2  3,000 sqft   90049  3 Beds    CA     1.0    NaN         yes  FR19221027   \n",
       "3  6,457 sqft   75205  5 Beds    TX     3.0    NaN         NaN    14191809   \n",
       "4         NaN   32908     NaN    FL     NaN    NaN         NaN      861745   \n",
       "5    897 sqft   19145  2 Beds    PA     2.0    NaN         NaN  PAPH847006   \n",
       "6       1,507   34759     NaN    FL     One    NaN         NaN    S5026943   \n",
       "7         NaN   38115     NaN    TN     NaN    NaN         NaN    10063506   \n",
       "8        3588   50401       3    IA     NaN    NaN         NaN      190988   \n",
       "9       1,930   77080       3    TX     2.0    NaN         NaN    73968331   \n",
       "\n",
       "       target  \n",
       "0    $418,000  \n",
       "1    $310,000  \n",
       "2  $2,895,000  \n",
       "3  $2,395,000  \n",
       "4      $5,000  \n",
       "5    $209,000  \n",
       "6     181,500  \n",
       "7      68,000  \n",
       "8    $244,900  \n",
       "9    $311,995  "
      ]
     },
     "metadata": {},
     "output_type": "display_data"
    },
    {
     "name": "stdout",
     "output_type": "stream",
     "text": [
      "<class 'pandas.core.frame.DataFrame'>\n",
      "RangeIndex: 377185 entries, 0 to 377184\n",
      "Data columns (total 18 columns):\n",
      "status          337267 non-null object\n",
      "private pool    4181 non-null object\n",
      "propertyType    342452 non-null object\n",
      "street          377183 non-null object\n",
      "baths           270847 non-null object\n",
      "homeFacts       377185 non-null object\n",
      "fireplace       103115 non-null object\n",
      "city            377151 non-null object\n",
      "schools         377185 non-null object\n",
      "sqft            336608 non-null object\n",
      "zipcode         377185 non-null object\n",
      "beds            285903 non-null object\n",
      "state           377185 non-null object\n",
      "stories         226470 non-null object\n",
      "mls-id          24942 non-null object\n",
      "PrivatePool     40311 non-null object\n",
      "MlsId           310305 non-null object\n",
      "target          374704 non-null object\n",
      "dtypes: object(18)\n",
      "memory usage: 51.8+ MB\n"
     ]
    }
   ],
   "source": [
    "# Получаем информацию о датафрейме\n",
    "display(dataset.head(10))\n",
    "dataset.info()"
   ]
  },
  {
   "cell_type": "code",
   "execution_count": 711,
   "metadata": {},
   "outputs": [
    {
     "data": {
      "text/plain": [
       "status           39918\n",
       "private pool    373004\n",
       "propertyType     34733\n",
       "street               2\n",
       "baths           106338\n",
       "homeFacts            0\n",
       "fireplace       274070\n",
       "city                34\n",
       "schools              0\n",
       "sqft             40577\n",
       "zipcode              0\n",
       "beds             91282\n",
       "state                0\n",
       "stories         150715\n",
       "mls-id          352243\n",
       "PrivatePool     336874\n",
       "MlsId            66880\n",
       "target            2481\n",
       "dtype: int64"
      ]
     },
     "execution_count": 711,
     "metadata": {},
     "output_type": "execute_result"
    }
   ],
   "source": [
    "# Постчитаем количество пропущенных занчений для каждого из столбцов \n",
    "dataset.isna().sum()"
   ]
  },
  {
   "cell_type": "code",
   "execution_count": 712,
   "metadata": {},
   "outputs": [
    {
     "data": {
      "text/plain": [
       "for sale                  156104\n",
       "Active                    105207\n",
       "For sale                   43465\n",
       "foreclosure                 6426\n",
       "New construction            5475\n",
       "                           ...  \n",
       "Coming soon: Nov 11.           1\n",
       "Pending Backups Wanted         1\n",
       "Coming soon: Dec 25.           1\n",
       "Coming soon: Nov 26.           1\n",
       "Coming soon: Nov 12.           1\n",
       "Name: status, Length: 159, dtype: int64"
      ]
     },
     "execution_count": 712,
     "metadata": {},
     "output_type": "execute_result"
    }
   ],
   "source": [
    "dataset['status'].value_counts()"
   ]
  },
  {
   "cell_type": "code",
   "execution_count": 713,
   "metadata": {},
   "outputs": [],
   "source": [
    "dataset['status'] = dataset['status'].str.replace(r'.*for sale*', 'For sale', regex= True)"
   ]
  },
  {
   "cell_type": "code",
   "execution_count": 714,
   "metadata": {},
   "outputs": [
    {
     "data": {
      "text/plain": [
       "For sale                199569\n",
       "Active                  105207\n",
       "foreclosure               6426\n",
       "New construction          5475\n",
       "Pending                   4702\n",
       "                         ...  \n",
       "Coming soon: Nov 17.         1\n",
       "Coming soon: Nov 25.         1\n",
       "Coming soon: Oct 24.         1\n",
       "Coming soon: Dec 27.         1\n",
       "Coming soon: Nov 12.         1\n",
       "Name: status, Length: 158, dtype: int64"
      ]
     },
     "execution_count": 714,
     "metadata": {},
     "output_type": "execute_result"
    }
   ],
   "source": [
    "dataset['status'].value_counts()"
   ]
  },
  {
   "cell_type": "code",
   "execution_count": 715,
   "metadata": {},
   "outputs": [
    {
     "data": {
      "text/plain": [
       "array(['$418,000', '$310,000', '$2,895,000', ..., '$528,000', '$34,500',\n",
       "       '$204,900'], dtype='<U18')"
      ]
     },
     "execution_count": 715,
     "metadata": {},
     "output_type": "execute_result"
    }
   ],
   "source": [
    "dataset.target.values.astype(str)"
   ]
  },
  {
   "cell_type": "code",
   "execution_count": 716,
   "metadata": {},
   "outputs": [],
   "source": [
    "# меняем формат солбца на строку\n",
    "dataset = dataset.astype({'target': np.str})"
   ]
  },
  {
   "cell_type": "code",
   "execution_count": 717,
   "metadata": {},
   "outputs": [],
   "source": [
    "# замена всех символов, кроме цифр\n",
    "dataset.target = dataset.target.apply(lambda x: x.replace('$', ''))\n",
    "dataset.target = dataset.target.apply(lambda x: x.replace(',', ''))\n",
    "dataset.target = dataset.target.apply(lambda x: x.replace('+', ''))\n",
    "dataset.target = dataset.target.apply(lambda x: x.replace('/', ''))\n",
    "dataset.target = dataset.target.apply(lambda x: x.replace('-', ''))\n",
    "dataset.target = dataset.target.apply(lambda x: x.replace('m', ''))\n",
    "dataset.target = dataset.target.apply(lambda x: x.replace('n', ''))\n",
    "dataset.target = dataset.target.apply(lambda x: x.replace('o', ''))\n",
    "dataset.target = dataset.target.apply(lambda x: x.replace(' ', ''))\n",
    "dataset.target = dataset.target.apply(lambda x: x.replace('a', ''))"
   ]
  },
  {
   "cell_type": "code",
   "execution_count": 718,
   "metadata": {},
   "outputs": [
    {
     "data": {
      "text/plain": [
       "0          418000\n",
       "1          310000\n",
       "2         2895000\n",
       "3         2395000\n",
       "4            5000\n",
       "           ...   \n",
       "377180    1249000\n",
       "377181     674999\n",
       "377182     528000\n",
       "377183      34500\n",
       "377184     204900\n",
       "Name: target, Length: 377185, dtype: object"
      ]
     },
     "execution_count": 718,
     "metadata": {},
     "output_type": "execute_result"
    }
   ],
   "source": [
    "dataset.target"
   ]
  },
  {
   "cell_type": "code",
   "execution_count": 719,
   "metadata": {},
   "outputs": [
    {
     "data": {
      "text/plain": [
       "array(['418000', '310000', '2895000', ..., '528000', '34500', '204900'],\n",
       "      dtype='<U9')"
      ]
     },
     "execution_count": 719,
     "metadata": {},
     "output_type": "execute_result"
    }
   ],
   "source": [
    "dataset.target.values.astype(str)"
   ]
  },
  {
   "cell_type": "code",
   "execution_count": 720,
   "metadata": {},
   "outputs": [],
   "source": [
    "# проверка на остатки символов\n",
    "full_set=set()\n",
    "for s in [set(str(p)) for p in dataset.target.values]:\n",
    "    full_set=full_set.union(s)"
   ]
  },
  {
   "cell_type": "code",
   "execution_count": 721,
   "metadata": {},
   "outputs": [
    {
     "data": {
      "text/plain": [
       "{'0', '1', '2', '3', '4', '5', '6', '7', '8', '9'}"
      ]
     },
     "execution_count": 721,
     "metadata": {},
     "output_type": "execute_result"
    }
   ],
   "source": [
    "full_set"
   ]
  },
  {
   "cell_type": "code",
   "execution_count": 722,
   "metadata": {},
   "outputs": [
    {
     "data": {
      "text/plain": [
       "0          418000.0\n",
       "1          310000.0\n",
       "2         2895000.0\n",
       "3         2395000.0\n",
       "4            5000.0\n",
       "            ...    \n",
       "377180    1249000.0\n",
       "377181     674999.0\n",
       "377182     528000.0\n",
       "377183      34500.0\n",
       "377184     204900.0\n",
       "Name: target, Length: 377185, dtype: float64"
      ]
     },
     "execution_count": 722,
     "metadata": {},
     "output_type": "execute_result"
    }
   ],
   "source": [
    "pd.to_numeric(dataset.target)"
   ]
  },
  {
   "cell_type": "code",
   "execution_count": 723,
   "metadata": {},
   "outputs": [
    {
     "data": {
      "text/plain": [
       "inf"
      ]
     },
     "execution_count": 723,
     "metadata": {},
     "output_type": "execute_result"
    }
   ],
   "source": [
    "dataset[dataset.status=='For sale'].target.mean()"
   ]
  },
  {
   "cell_type": "code",
   "execution_count": 724,
   "metadata": {},
   "outputs": [
    {
     "data": {
      "text/plain": [
       "           2481\n",
       "225000     1806\n",
       "275000     1650\n",
       "250000     1644\n",
       "350000     1641\n",
       "           ... \n",
       "161770        1\n",
       "1776250       1\n",
       "257765        1\n",
       "224052        1\n",
       "155992        1\n",
       "Name: target, Length: 34233, dtype: int64"
      ]
     },
     "execution_count": 724,
     "metadata": {},
     "output_type": "execute_result"
    }
   ],
   "source": [
    "# смотрим на часто встречающиеся значением\n",
    "dataset['target'].value_counts()"
   ]
  },
  {
   "cell_type": "code",
   "execution_count": 725,
   "metadata": {},
   "outputs": [],
   "source": [
    "# заполняем пропуски константой,самым часто часто встречающимся занчением\n",
    "dataset['target'].fillna(225000, inplace=True)"
   ]
  },
  {
   "cell_type": "code",
   "execution_count": 726,
   "metadata": {},
   "outputs": [],
   "source": [
    "# Замена NaN на значение 1-ого индекса, т.е. на 225 000\n",
    "dataset['target'].fillna(dataset['target'].value_counts().index[1],inplace=True)"
   ]
  },
  {
   "cell_type": "code",
   "execution_count": 727,
   "metadata": {},
   "outputs": [
    {
     "data": {
      "text/plain": [
       "0"
      ]
     },
     "execution_count": 727,
     "metadata": {},
     "output_type": "execute_result"
    }
   ],
   "source": [
    "# проверяем, что пропуски заполнены\n",
    "dataset['target'].isna().sum()"
   ]
  },
  {
   "cell_type": "code",
   "execution_count": 728,
   "metadata": {},
   "outputs": [
    {
     "data": {
      "text/plain": [
       "'9999999'"
      ]
     },
     "execution_count": 728,
     "metadata": {},
     "output_type": "execute_result"
    }
   ],
   "source": [
    "dataset[dataset.status=='For sale'].target.max()"
   ]
  },
  {
   "cell_type": "code",
   "execution_count": 729,
   "metadata": {},
   "outputs": [
    {
     "data": {
      "text/plain": [
       "'999999'"
      ]
     },
     "execution_count": 729,
     "metadata": {},
     "output_type": "execute_result"
    }
   ],
   "source": [
    "dataset[dataset.status=='Active'].target.max()"
   ]
  },
  {
   "cell_type": "code",
   "execution_count": 730,
   "metadata": {},
   "outputs": [
    {
     "data": {
      "text/plain": [
       "''"
      ]
     },
     "execution_count": 730,
     "metadata": {},
     "output_type": "execute_result"
    }
   ],
   "source": [
    "dataset[dataset.status=='For sale'].target.min()"
   ]
  },
  {
   "cell_type": "code",
   "execution_count": 731,
   "metadata": {},
   "outputs": [
    {
     "data": {
      "text/plain": [
       "nan"
      ]
     },
     "execution_count": 731,
     "metadata": {},
     "output_type": "execute_result"
    }
   ],
   "source": [
    "dataset[dataset.status=='Activ'].target.max()"
   ]
  },
  {
   "cell_type": "code",
   "execution_count": 732,
   "metadata": {},
   "outputs": [],
   "source": [
    "# заполняем пропуски константой,самым часто часто встречающимся занчением\n",
    "dataset['status'].fillna('For sale', inplace=True)"
   ]
  },
  {
   "cell_type": "code",
   "execution_count": 733,
   "metadata": {},
   "outputs": [
    {
     "data": {
      "text/plain": [
       "0"
      ]
     },
     "execution_count": 733,
     "metadata": {},
     "output_type": "execute_result"
    }
   ],
   "source": [
    "# проверяем, что пропуски заполнены\n",
    "dataset['status'].isna().sum()"
   ]
  },
  {
   "cell_type": "code",
   "execution_count": 734,
   "metadata": {},
   "outputs": [
    {
     "data": {
      "text/plain": [
       "Yes    4181\n",
       "Name: private pool, dtype: int64"
      ]
     },
     "execution_count": 734,
     "metadata": {},
     "output_type": "execute_result"
    }
   ],
   "source": [
    "dataset['private pool'].value_counts()"
   ]
  },
  {
   "cell_type": "code",
   "execution_count": 735,
   "metadata": {},
   "outputs": [],
   "source": [
    "dataset['private pool'].fillna('No', inplace=True)"
   ]
  },
  {
   "cell_type": "code",
   "execution_count": 736,
   "metadata": {},
   "outputs": [
    {
     "data": {
      "text/plain": [
       "No     373004\n",
       "Yes      4181\n",
       "Name: private pool, dtype: int64"
      ]
     },
     "execution_count": 736,
     "metadata": {},
     "output_type": "execute_result"
    }
   ],
   "source": [
    "# думаю, что нужно будет заменить на чиловые значения 1 и 2\n",
    "dataset['private pool'].value_counts()"
   ]
  },
  {
   "cell_type": "code",
   "execution_count": 737,
   "metadata": {},
   "outputs": [
    {
     "data": {
      "text/plain": [
       "yes    28793\n",
       "Yes    11518\n",
       "Name: PrivatePool, dtype: int64"
      ]
     },
     "execution_count": 737,
     "metadata": {},
     "output_type": "execute_result"
    }
   ],
   "source": [
    "dataset['PrivatePool'].value_counts()"
   ]
  },
  {
   "cell_type": "code",
   "execution_count": 738,
   "metadata": {},
   "outputs": [],
   "source": [
    "dataset['PrivatePool'] = dataset['PrivatePool'].str.replace(r'.*yes*', 'Yes', regex= True)"
   ]
  },
  {
   "cell_type": "code",
   "execution_count": 739,
   "metadata": {},
   "outputs": [
    {
     "data": {
      "text/plain": [
       "Yes    40311\n",
       "Name: PrivatePool, dtype: int64"
      ]
     },
     "execution_count": 739,
     "metadata": {},
     "output_type": "execute_result"
    }
   ],
   "source": [
    "dataset['PrivatePool'].value_counts()"
   ]
  },
  {
   "cell_type": "code",
   "execution_count": 740,
   "metadata": {},
   "outputs": [],
   "source": [
    "dataset['PrivatePool'].fillna('No', inplace=True)"
   ]
  },
  {
   "cell_type": "code",
   "execution_count": 741,
   "metadata": {},
   "outputs": [
    {
     "data": {
      "text/plain": [
       "No     336874\n",
       "Yes     40311\n",
       "Name: PrivatePool, dtype: int64"
      ]
     },
     "execution_count": 741,
     "metadata": {},
     "output_type": "execute_result"
    }
   ],
   "source": [
    "dataset['PrivatePool'].value_counts()"
   ]
  },
  {
   "cell_type": "code",
   "execution_count": 742,
   "metadata": {},
   "outputs": [],
   "source": [
    "dataset['Pool']=dataset['private pool'].astype(str) +'_'+ dataset['PrivatePool'].astype(str)"
   ]
  },
  {
   "cell_type": "code",
   "execution_count": 743,
   "metadata": {},
   "outputs": [
    {
     "data": {
      "text/plain": [
       "No_No     332693\n",
       "No_Yes     40311\n",
       "Yes_No      4181\n",
       "Name: Pool, dtype: int64"
      ]
     },
     "execution_count": 743,
     "metadata": {},
     "output_type": "execute_result"
    }
   ],
   "source": [
    "dataset['Pool'].value_counts()"
   ]
  },
  {
   "cell_type": "code",
   "execution_count": 744,
   "metadata": {},
   "outputs": [],
   "source": [
    "dataset.Pool = dataset.Pool.apply(lambda x: x.replace('No_No', 'No'))\n",
    "dataset.Pool = dataset.Pool.apply(lambda x: x.replace('No_Yes', 'Yes'))\n",
    "dataset.Pool = dataset.Pool.apply(lambda x: x.replace('Yes_No', 'Yes'))"
   ]
  },
  {
   "cell_type": "code",
   "execution_count": 745,
   "metadata": {},
   "outputs": [
    {
     "data": {
      "text/plain": [
       "No     332693\n",
       "Yes     44492\n",
       "Name: Pool, dtype: int64"
      ]
     },
     "execution_count": 745,
     "metadata": {},
     "output_type": "execute_result"
    }
   ],
   "source": [
    "dataset['Pool'].value_counts()"
   ]
  },
  {
   "cell_type": "code",
   "execution_count": 746,
   "metadata": {},
   "outputs": [],
   "source": [
    "# удаляем столбцы, на сонове которых создан новый признак\n",
    "dataset.drop(['private pool','PrivatePool'],axis=1,inplace=True)"
   ]
  },
  {
   "cell_type": "code",
   "execution_count": 747,
   "metadata": {},
   "outputs": [
    {
     "data": {
      "text/html": [
       "<div>\n",
       "<style scoped>\n",
       "    .dataframe tbody tr th:only-of-type {\n",
       "        vertical-align: middle;\n",
       "    }\n",
       "\n",
       "    .dataframe tbody tr th {\n",
       "        vertical-align: top;\n",
       "    }\n",
       "\n",
       "    .dataframe thead th {\n",
       "        text-align: right;\n",
       "    }\n",
       "</style>\n",
       "<table border=\"1\" class=\"dataframe\">\n",
       "  <thead>\n",
       "    <tr style=\"text-align: right;\">\n",
       "      <th></th>\n",
       "      <th>status</th>\n",
       "      <th>propertyType</th>\n",
       "      <th>street</th>\n",
       "      <th>baths</th>\n",
       "      <th>homeFacts</th>\n",
       "      <th>fireplace</th>\n",
       "      <th>city</th>\n",
       "      <th>schools</th>\n",
       "      <th>sqft</th>\n",
       "      <th>zipcode</th>\n",
       "      <th>beds</th>\n",
       "      <th>state</th>\n",
       "      <th>stories</th>\n",
       "      <th>mls-id</th>\n",
       "      <th>MlsId</th>\n",
       "      <th>target</th>\n",
       "      <th>Pool</th>\n",
       "    </tr>\n",
       "  </thead>\n",
       "  <tbody>\n",
       "    <tr>\n",
       "      <td>0</td>\n",
       "      <td>Active</td>\n",
       "      <td>Single Family Home</td>\n",
       "      <td>240 Heather Ln</td>\n",
       "      <td>3.5</td>\n",
       "      <td>{'atAGlanceFacts': [{'factValue': '2019', 'fac...</td>\n",
       "      <td>Gas Logs</td>\n",
       "      <td>Southern Pines</td>\n",
       "      <td>[{'rating': ['4', '4', '7', 'NR', '4', '7', 'N...</td>\n",
       "      <td>2900</td>\n",
       "      <td>28387</td>\n",
       "      <td>4</td>\n",
       "      <td>NC</td>\n",
       "      <td>NaN</td>\n",
       "      <td>NaN</td>\n",
       "      <td>611019</td>\n",
       "      <td>418000</td>\n",
       "      <td>No</td>\n",
       "    </tr>\n",
       "    <tr>\n",
       "      <td>1</td>\n",
       "      <td>For sale</td>\n",
       "      <td>single-family home</td>\n",
       "      <td>12911 E Heroy Ave</td>\n",
       "      <td>3 Baths</td>\n",
       "      <td>{'atAGlanceFacts': [{'factValue': '2019', 'fac...</td>\n",
       "      <td>NaN</td>\n",
       "      <td>Spokane Valley</td>\n",
       "      <td>[{'rating': ['4/10', 'None/10', '4/10'], 'data...</td>\n",
       "      <td>1,947 sqft</td>\n",
       "      <td>99216</td>\n",
       "      <td>3 Beds</td>\n",
       "      <td>WA</td>\n",
       "      <td>2.0</td>\n",
       "      <td>NaN</td>\n",
       "      <td>201916904</td>\n",
       "      <td>310000</td>\n",
       "      <td>No</td>\n",
       "    </tr>\n",
       "    <tr>\n",
       "      <td>2</td>\n",
       "      <td>For sale</td>\n",
       "      <td>single-family home</td>\n",
       "      <td>2005 Westridge Rd</td>\n",
       "      <td>2 Baths</td>\n",
       "      <td>{'atAGlanceFacts': [{'factValue': '1961', 'fac...</td>\n",
       "      <td>yes</td>\n",
       "      <td>Los Angeles</td>\n",
       "      <td>[{'rating': ['8/10', '4/10', '8/10'], 'data': ...</td>\n",
       "      <td>3,000 sqft</td>\n",
       "      <td>90049</td>\n",
       "      <td>3 Beds</td>\n",
       "      <td>CA</td>\n",
       "      <td>1.0</td>\n",
       "      <td>NaN</td>\n",
       "      <td>FR19221027</td>\n",
       "      <td>2895000</td>\n",
       "      <td>Yes</td>\n",
       "    </tr>\n",
       "    <tr>\n",
       "      <td>3</td>\n",
       "      <td>For sale</td>\n",
       "      <td>single-family home</td>\n",
       "      <td>4311 Livingston Ave</td>\n",
       "      <td>8 Baths</td>\n",
       "      <td>{'atAGlanceFacts': [{'factValue': '2006', 'fac...</td>\n",
       "      <td>yes</td>\n",
       "      <td>Dallas</td>\n",
       "      <td>[{'rating': ['9/10', '9/10', '10/10', '9/10'],...</td>\n",
       "      <td>6,457 sqft</td>\n",
       "      <td>75205</td>\n",
       "      <td>5 Beds</td>\n",
       "      <td>TX</td>\n",
       "      <td>3.0</td>\n",
       "      <td>NaN</td>\n",
       "      <td>14191809</td>\n",
       "      <td>2395000</td>\n",
       "      <td>No</td>\n",
       "    </tr>\n",
       "    <tr>\n",
       "      <td>4</td>\n",
       "      <td>For sale</td>\n",
       "      <td>lot/land</td>\n",
       "      <td>1524 Kiscoe St</td>\n",
       "      <td>NaN</td>\n",
       "      <td>{'atAGlanceFacts': [{'factValue': '', 'factLab...</td>\n",
       "      <td>NaN</td>\n",
       "      <td>Palm Bay</td>\n",
       "      <td>[{'rating': ['4/10', '5/10', '5/10'], 'data': ...</td>\n",
       "      <td>NaN</td>\n",
       "      <td>32908</td>\n",
       "      <td>NaN</td>\n",
       "      <td>FL</td>\n",
       "      <td>NaN</td>\n",
       "      <td>NaN</td>\n",
       "      <td>861745</td>\n",
       "      <td>5000</td>\n",
       "      <td>No</td>\n",
       "    </tr>\n",
       "    <tr>\n",
       "      <td>...</td>\n",
       "      <td>...</td>\n",
       "      <td>...</td>\n",
       "      <td>...</td>\n",
       "      <td>...</td>\n",
       "      <td>...</td>\n",
       "      <td>...</td>\n",
       "      <td>...</td>\n",
       "      <td>...</td>\n",
       "      <td>...</td>\n",
       "      <td>...</td>\n",
       "      <td>...</td>\n",
       "      <td>...</td>\n",
       "      <td>...</td>\n",
       "      <td>...</td>\n",
       "      <td>...</td>\n",
       "      <td>...</td>\n",
       "      <td>...</td>\n",
       "    </tr>\n",
       "    <tr>\n",
       "      <td>377180</td>\n",
       "      <td>For sale</td>\n",
       "      <td>Single Family</td>\n",
       "      <td>20800 NE 23rd Ave</td>\n",
       "      <td>6.0</td>\n",
       "      <td>{'atAGlanceFacts': [{'factValue': '1990', 'fac...</td>\n",
       "      <td>NaN</td>\n",
       "      <td>Miami</td>\n",
       "      <td>[{'rating': ['10/10', '5/10'], 'data': {'Dista...</td>\n",
       "      <td>4,017</td>\n",
       "      <td>33180</td>\n",
       "      <td>5</td>\n",
       "      <td>FL</td>\n",
       "      <td>0.0</td>\n",
       "      <td>NaN</td>\n",
       "      <td>A10702700</td>\n",
       "      <td>1249000</td>\n",
       "      <td>Yes</td>\n",
       "    </tr>\n",
       "    <tr>\n",
       "      <td>377181</td>\n",
       "      <td>For sale</td>\n",
       "      <td>condo</td>\n",
       "      <td>3530 N Lake Shore Dr #4B</td>\n",
       "      <td>3 Baths</td>\n",
       "      <td>{'atAGlanceFacts': [{'factValue': '1924', 'fac...</td>\n",
       "      <td>NaN</td>\n",
       "      <td>Chicago</td>\n",
       "      <td>[{'rating': ['1/10', '5/10', '7/10'], 'data': ...</td>\n",
       "      <td>2,000 sqft</td>\n",
       "      <td>60657</td>\n",
       "      <td>3 Beds</td>\n",
       "      <td>IL</td>\n",
       "      <td>9.0</td>\n",
       "      <td>NaN</td>\n",
       "      <td>10374233</td>\n",
       "      <td>674999</td>\n",
       "      <td>No</td>\n",
       "    </tr>\n",
       "    <tr>\n",
       "      <td>377182</td>\n",
       "      <td>For sale</td>\n",
       "      <td>single-family home</td>\n",
       "      <td>15509 Linden Blvd</td>\n",
       "      <td>3 Baths</td>\n",
       "      <td>{'atAGlanceFacts': [{'factValue': '1950', 'fac...</td>\n",
       "      <td>NaN</td>\n",
       "      <td>Jamaica</td>\n",
       "      <td>[{'rating': ['5/10', '4/10'], 'data': {'Distan...</td>\n",
       "      <td>1,152 sqft</td>\n",
       "      <td>11434</td>\n",
       "      <td>3 Beds</td>\n",
       "      <td>NY</td>\n",
       "      <td>2</td>\n",
       "      <td>NaN</td>\n",
       "      <td>NaN</td>\n",
       "      <td>528000</td>\n",
       "      <td>No</td>\n",
       "    </tr>\n",
       "    <tr>\n",
       "      <td>377183</td>\n",
       "      <td>For sale</td>\n",
       "      <td>NaN</td>\n",
       "      <td>7810 Pereida St</td>\n",
       "      <td>NaN</td>\n",
       "      <td>{'atAGlanceFacts': [{'factValue': None, 'factL...</td>\n",
       "      <td>NaN</td>\n",
       "      <td>Houston</td>\n",
       "      <td>[{'rating': ['NA', 'NA', 'NA'], 'data': {'Dist...</td>\n",
       "      <td>NaN</td>\n",
       "      <td>77028</td>\n",
       "      <td>8,479 sqft</td>\n",
       "      <td>TX</td>\n",
       "      <td>NaN</td>\n",
       "      <td>NaN</td>\n",
       "      <td>NaN</td>\n",
       "      <td>34500</td>\n",
       "      <td>No</td>\n",
       "    </tr>\n",
       "    <tr>\n",
       "      <td>377184</td>\n",
       "      <td>For sale</td>\n",
       "      <td>Single Family</td>\n",
       "      <td>5983 Midcrown Dr</td>\n",
       "      <td>2.0</td>\n",
       "      <td>{'atAGlanceFacts': [{'factValue': '2019', 'fac...</td>\n",
       "      <td>Not Applicable</td>\n",
       "      <td>San Antonio</td>\n",
       "      <td>[{'rating': ['5/10', '4/10', '3/10'], 'data': ...</td>\n",
       "      <td>1,462</td>\n",
       "      <td>78218</td>\n",
       "      <td>3</td>\n",
       "      <td>TX</td>\n",
       "      <td>1.0</td>\n",
       "      <td>NaN</td>\n",
       "      <td>1403619</td>\n",
       "      <td>204900</td>\n",
       "      <td>No</td>\n",
       "    </tr>\n",
       "  </tbody>\n",
       "</table>\n",
       "<p>377185 rows × 17 columns</p>\n",
       "</div>"
      ],
      "text/plain": [
       "          status        propertyType                    street    baths  \\\n",
       "0         Active  Single Family Home            240 Heather Ln      3.5   \n",
       "1       For sale  single-family home         12911 E Heroy Ave  3 Baths   \n",
       "2       For sale  single-family home         2005 Westridge Rd  2 Baths   \n",
       "3       For sale  single-family home       4311 Livingston Ave  8 Baths   \n",
       "4       For sale            lot/land            1524 Kiscoe St      NaN   \n",
       "...          ...                 ...                       ...      ...   \n",
       "377180  For sale       Single Family         20800 NE 23rd Ave      6.0   \n",
       "377181  For sale               condo  3530 N Lake Shore Dr #4B  3 Baths   \n",
       "377182  For sale  single-family home         15509 Linden Blvd  3 Baths   \n",
       "377183  For sale                 NaN           7810 Pereida St      NaN   \n",
       "377184  For sale       Single Family          5983 Midcrown Dr      2.0   \n",
       "\n",
       "                                                homeFacts       fireplace  \\\n",
       "0       {'atAGlanceFacts': [{'factValue': '2019', 'fac...        Gas Logs   \n",
       "1       {'atAGlanceFacts': [{'factValue': '2019', 'fac...             NaN   \n",
       "2       {'atAGlanceFacts': [{'factValue': '1961', 'fac...             yes   \n",
       "3       {'atAGlanceFacts': [{'factValue': '2006', 'fac...             yes   \n",
       "4       {'atAGlanceFacts': [{'factValue': '', 'factLab...             NaN   \n",
       "...                                                   ...             ...   \n",
       "377180  {'atAGlanceFacts': [{'factValue': '1990', 'fac...             NaN   \n",
       "377181  {'atAGlanceFacts': [{'factValue': '1924', 'fac...             NaN   \n",
       "377182  {'atAGlanceFacts': [{'factValue': '1950', 'fac...             NaN   \n",
       "377183  {'atAGlanceFacts': [{'factValue': None, 'factL...             NaN   \n",
       "377184  {'atAGlanceFacts': [{'factValue': '2019', 'fac...  Not Applicable   \n",
       "\n",
       "                  city                                            schools  \\\n",
       "0       Southern Pines  [{'rating': ['4', '4', '7', 'NR', '4', '7', 'N...   \n",
       "1       Spokane Valley  [{'rating': ['4/10', 'None/10', '4/10'], 'data...   \n",
       "2          Los Angeles  [{'rating': ['8/10', '4/10', '8/10'], 'data': ...   \n",
       "3               Dallas  [{'rating': ['9/10', '9/10', '10/10', '9/10'],...   \n",
       "4             Palm Bay  [{'rating': ['4/10', '5/10', '5/10'], 'data': ...   \n",
       "...                ...                                                ...   \n",
       "377180           Miami  [{'rating': ['10/10', '5/10'], 'data': {'Dista...   \n",
       "377181         Chicago  [{'rating': ['1/10', '5/10', '7/10'], 'data': ...   \n",
       "377182         Jamaica  [{'rating': ['5/10', '4/10'], 'data': {'Distan...   \n",
       "377183         Houston  [{'rating': ['NA', 'NA', 'NA'], 'data': {'Dist...   \n",
       "377184     San Antonio  [{'rating': ['5/10', '4/10', '3/10'], 'data': ...   \n",
       "\n",
       "              sqft zipcode        beds state stories mls-id       MlsId  \\\n",
       "0             2900   28387           4    NC     NaN    NaN      611019   \n",
       "1       1,947 sqft   99216      3 Beds    WA     2.0    NaN   201916904   \n",
       "2       3,000 sqft   90049      3 Beds    CA     1.0    NaN  FR19221027   \n",
       "3       6,457 sqft   75205      5 Beds    TX     3.0    NaN    14191809   \n",
       "4              NaN   32908         NaN    FL     NaN    NaN      861745   \n",
       "...            ...     ...         ...   ...     ...    ...         ...   \n",
       "377180       4,017   33180           5    FL     0.0    NaN   A10702700   \n",
       "377181  2,000 sqft   60657      3 Beds    IL     9.0    NaN    10374233   \n",
       "377182  1,152 sqft   11434      3 Beds    NY       2    NaN         NaN   \n",
       "377183         NaN   77028  8,479 sqft    TX     NaN    NaN         NaN   \n",
       "377184       1,462   78218           3    TX     1.0    NaN     1403619   \n",
       "\n",
       "         target Pool  \n",
       "0        418000   No  \n",
       "1        310000   No  \n",
       "2       2895000  Yes  \n",
       "3       2395000   No  \n",
       "4          5000   No  \n",
       "...         ...  ...  \n",
       "377180  1249000  Yes  \n",
       "377181   674999   No  \n",
       "377182   528000   No  \n",
       "377183    34500   No  \n",
       "377184   204900   No  \n",
       "\n",
       "[377185 rows x 17 columns]"
      ]
     },
     "execution_count": 747,
     "metadata": {},
     "output_type": "execute_result"
    }
   ],
   "source": [
    "dataset"
   ]
  },
  {
   "cell_type": "code",
   "execution_count": 748,
   "metadata": {},
   "outputs": [
    {
     "data": {
      "text/plain": [
       "single-family home                                                                92206\n",
       "Single Family                                                                     62869\n",
       "Single Family Home                                                                31728\n",
       "condo                                                                             25968\n",
       "lot/land                                                                          20552\n",
       "                                                                                  ...  \n",
       "Custom, Ranch, Traditional                                                            1\n",
       "1 Story, Cape Cod                                                                     1\n",
       "Lake House, Mid-Century Modern                                                        1\n",
       "Historical/Conservation District, Single Detached, Early American, Traditional        1\n",
       "Bungalow, Craftsman, Tudor                                                            1\n",
       "Name: propertyType, Length: 1280, dtype: int64"
      ]
     },
     "execution_count": 748,
     "metadata": {},
     "output_type": "execute_result"
    }
   ],
   "source": [
    "dataset['propertyType'].value_counts()"
   ]
  },
  {
   "cell_type": "code",
   "execution_count": 749,
   "metadata": {},
   "outputs": [],
   "source": [
    "dataset['propertyType'] = dataset['propertyType'].str.replace(r'.*single-family home*', 'Single Family', regex= True)\n",
    "dataset['propertyType'] = dataset['propertyType'].str.replace(r'.*Single Family Home*', 'Single Family', regex= True)\n",
    "dataset['propertyType'] = dataset['propertyType'].str.replace(r'.*condo*', 'Condo', regex= True)\n",
    "dataset['propertyType'] = dataset['propertyType'].str.replace(r'.*lot/land*', 'Land', regex= True)\n",
    "dataset['propertyType'] = dataset['propertyType'].str.replace(r'.*townhouse*', 'Townhouse', regex= True)\n",
    "dataset['propertyType'] = dataset['propertyType'].str.replace(r'.*multi-family*', 'Multi Family', regex= True)\n",
    "dataset['propertyType'] = dataset['propertyType'].str.replace(r'.*Multi-Family Home*', 'Multi Family', regex= True)\n",
    "dataset['propertyType'] = dataset['propertyType'].str.replace(r'.*Detached, One Story*', 'Single Detached, Traditional', regex= True)\n",
    "dataset['propertyType'] = dataset['propertyType'].str.replace(r'.*Colonial*', 'Condo', regex= True)\n",
    "dataset['propertyType'] = dataset['propertyType'].str.replace(r'.*mobile/manufactured*', 'Mobile / Manufactured', regex= True)\n",
    "dataset['propertyType'] = dataset['propertyType'].str.replace(r'.*Condo*', 'Apartment', regex= True)\n",
    "dataset['propertyType'] = dataset['propertyType'].str.replace(r'.*coop*', 'Cooperative', regex= True)\n",
    "dataset['propertyType'] = dataset['propertyType'].str.replace(r'.*apartment*', 'Apartment', regex= True)\n",
    "dataset['propertyType'] = dataset['propertyType'].str.replace(r'.*Two Story*', '2 Story', regex= True)\n",
    "dataset['propertyType'] = dataset['propertyType'].str.replace(r'.*One Story*', '1 Story', regex= True)\n",
    "dataset['propertyType'] = dataset['propertyType'].str.replace(r'.*2 Stories*', '2 Story', regex= True)\n",
    "dataset['propertyType'] = dataset['propertyType'].str.replace(r'.*2 Story, Traditional*', '2 Story', regex= True)\n",
    "dataset['propertyType'] = dataset['propertyType'].str.replace(r'.*Contemporary/Modern*', 'Contemporary', regex= True)\n",
    "dataset['propertyType'] = dataset['propertyType'].str.replace(r'.*Apartment/Townhome/Row Home/Co-Op*', 'Apartment', regex= True)\n",
    "dataset['propertyType'] = dataset['propertyType'].str.replace(r'.*Single Detached, Traditional*', 'Single Detached', regex= True)\n",
    "dataset['propertyType'] = dataset['propertyType'].str.replace(r'.*Contemporary, Traditional*', 'Contemporary', regex= True)\n",
    "dataset['propertyType'] = dataset['propertyType'].str.replace(r'.*Mfd/Mobile Home*', 'Mobile / Manufactured', regex= True)\n",
    "dataset['propertyType'] = dataset['propertyType'].str.replace(r'.*Other Style*', 'Other', regex= True)\n",
    "dataset['propertyType'] = dataset['propertyType'].str.replace(r'.*1 Story, Traditional*', '1 Story', regex= True)\n",
    "dataset['propertyType'] = dataset['propertyType'].str.replace(r'.*Apartment/Townhome, Traditional*', 'Apartment', regex= True)\n",
    "dataset['propertyType'] = dataset['propertyType'].str.replace(r'.*Apartment/Townhome*', 'Apartment', regex= True)"
   ]
  },
  {
   "cell_type": "code",
   "execution_count": 750,
   "metadata": {},
   "outputs": [
    {
     "data": {
      "text/plain": [
       "Single Family            186803\n",
       "Apartment                 52821\n",
       "Land                      31486\n",
       "Townhouse                 18402\n",
       "Multi Family              12195\n",
       "Traditional                5913\n",
       "Single Detached            3974\n",
       "Cooperative                3801\n",
       "Mobile / Manufactured      3476\n",
       "Contemporary               3316\n",
       "2 Story                    2468\n",
       "1 Story                    2269\n",
       "High Rise                  1823\n",
       "Ranch                      1781\n",
       "Transitional                560\n",
       "Florida                     530\n",
       "Other                       507\n",
       "Bungalow                    442\n",
       "Farms/Ranches               371\n",
       "Garden Home                 305\n",
       "Name: propertyType, dtype: int64"
      ]
     },
     "execution_count": 750,
     "metadata": {},
     "output_type": "execute_result"
    }
   ],
   "source": [
    "# можно будет дорпботать ещё, позднее\n",
    "dataset['propertyType'].value_counts().head(20)"
   ]
  },
  {
   "cell_type": "code",
   "execution_count": 751,
   "metadata": {},
   "outputs": [],
   "source": [
    "dataset['propertyType'].fillna('Single Family', inplace=True)"
   ]
  },
  {
   "cell_type": "code",
   "execution_count": 752,
   "metadata": {},
   "outputs": [
    {
     "data": {
      "text/plain": [
       "0"
      ]
     },
     "execution_count": 752,
     "metadata": {},
     "output_type": "execute_result"
    }
   ],
   "source": [
    "# проверяем, что пропуски заполнены\n",
    "dataset['propertyType'].isna().sum()"
   ]
  },
  {
   "cell_type": "code",
   "execution_count": 762,
   "metadata": {},
   "outputs": [],
   "source": [
    "# меняем формат солбца на строку\n",
    "dataset = dataset.astype({'street': np.str})"
   ]
  },
  {
   "cell_type": "code",
   "execution_count": 764,
   "metadata": {},
   "outputs": [],
   "source": [
    "dataset['street'] = dataset['street'].str.replace(r'.*Address Not Disclosed*', 'Unknown Address', regex= True)\n",
    "dataset['street'] = dataset['street'].str.replace(r'.*Undisclosed Address*', 'Unknown Address', regex= True)\n",
    "dataset['street'] = dataset['street'].str.replace(r'.*Address Not Available*', 'Unknown Address', regex= True)\n",
    "dataset['street'] = dataset['street'].str.replace(r'.*undisclosed Address*', 'Unknown Address', regex= True)"
   ]
  },
  {
   "cell_type": "code",
   "execution_count": 766,
   "metadata": {},
   "outputs": [],
   "source": [
    "dataset.street = dataset.street.apply(lambda x: x.replace(')', ''))"
   ]
  },
  {
   "cell_type": "code",
   "execution_count": 831,
   "metadata": {},
   "outputs": [
    {
     "data": {
      "text/plain": [
       "Unknown Address                1827\n",
       "2103 E State Hwy 21              57\n",
       "11305 Gulf Fwy                   54\n",
       "17030 Youngblood Rd.             38\n",
       "NE 58th Cir                      34\n",
       "9470 Lancaster Rd. SW            32\n",
       "1 Palmer Dr                      27\n",
       "8426 Terrace Valley Circle       25\n",
       "9845 Basil Western Rd NW         25\n",
       "6320 SW 89th Court Road          24\n",
       "8447 SW 99th Street Rd           22\n",
       "5221 S. Zapata Hwy               20\n",
       "Whitetail Trail                  19\n",
       "Stone Bluff Drive                18\n",
       "3423 Heather Garden Trail        17\n",
       "3435 Heather Garden Trail        17\n",
       "24423 Ferdossa Drive             17\n",
       "2005 West Happy Valley Road      17\n",
       "1365 Neihart Way                 17\n",
       "Boncher Blvd                     17\n",
       "Name: street, dtype: int64"
      ]
     },
     "execution_count": 831,
     "metadata": {},
     "output_type": "execute_result"
    }
   ],
   "source": [
    "# смотрим значения\n",
    "dataset['street'].value_counts().head(20)"
   ]
  },
  {
   "cell_type": "code",
   "execution_count": 768,
   "metadata": {},
   "outputs": [],
   "source": [
    "# всего 2 пропуска в этом признаке\n",
    "dataset['street'].fillna('Unknown Address', inplace=True)"
   ]
  },
  {
   "cell_type": "code",
   "execution_count": 769,
   "metadata": {},
   "outputs": [
    {
     "data": {
      "text/plain": [
       "0"
      ]
     },
     "execution_count": 769,
     "metadata": {},
     "output_type": "execute_result"
    }
   ],
   "source": [
    "# проверяем, что пропуски заполнены\n",
    "dataset['street'].isna().sum()"
   ]
  },
  {
   "cell_type": "code",
   "execution_count": 774,
   "metadata": {},
   "outputs": [
    {
     "data": {
      "text/plain": [
       "nan             106338\n",
       "2 Baths          52466\n",
       "3 Baths          35506\n",
       "2                20452\n",
       "2.0              16576\n",
       "4 Baths          14764\n",
       "3.0              10869\n",
       "3                10113\n",
       "Bathrooms: 2      9538\n",
       "2.5               8113\n",
       "Bathrooms: 3      6613\n",
       "1                 6583\n",
       "1.0               5930\n",
       "5 Baths           5370\n",
       "4.0               4593\n",
       "2.5 Baths         4486\n",
       "0                 3811\n",
       "4                 3567\n",
       "3.5               3455\n",
       "Bathrooms: 1      3234\n",
       "2 ba              2686\n",
       "6 Baths           2604\n",
       "Bathrooms: 4      2384\n",
       "1,500             2209\n",
       "3 ba              1893\n",
       "1.5               1857\n",
       "3.5 Baths         1821\n",
       "2,000             1795\n",
       "1,750             1723\n",
       "3,000             1686\n",
       "Name: baths, dtype: int64"
      ]
     },
     "execution_count": 774,
     "metadata": {},
     "output_type": "execute_result"
    }
   ],
   "source": [
    "# смотрим на значения\n",
    "dataset['baths'].value_counts().head(30)"
   ]
  },
  {
   "cell_type": "code",
   "execution_count": 786,
   "metadata": {},
   "outputs": [],
   "source": [
    "# меняем формат солбца на строку\n",
    "dataset = dataset.astype({'baths': np.str})"
   ]
  },
  {
   "cell_type": "code",
   "execution_count": null,
   "metadata": {},
   "outputs": [],
   "source": []
  },
  {
   "cell_type": "code",
   "execution_count": 808,
   "metadata": {},
   "outputs": [],
   "source": [
    "dataset.baths = dataset.baths.apply(lambda x: x.replace(',', '.'))\n",
    "dataset.baths = dataset.baths.apply(lambda x: x.replace('~', '.'))\n",
    "dataset.baths = dataset.baths.apply(lambda x: x.replace('+', '.'))"
   ]
  },
  {
   "cell_type": "code",
   "execution_count": 793,
   "metadata": {},
   "outputs": [],
   "source": [
    "# проверка на остатки символов\n",
    "b_set=set()\n",
    "for s in [set(str(p)) for p in dataset.baths.values]:\n",
    "    b_set=full_set.union(s)"
   ]
  },
  {
   "cell_type": "code",
   "execution_count": 794,
   "metadata": {},
   "outputs": [
    {
     "data": {
      "text/plain": [
       "{'.', '0', '1', '2', '3', '4', '5', '6', '7', '8', '9'}"
      ]
     },
     "execution_count": 794,
     "metadata": {},
     "output_type": "execute_result"
    }
   ],
   "source": [
    "b_set"
   ]
  },
  {
   "cell_type": "code",
   "execution_count": 826,
   "metadata": {},
   "outputs": [],
   "source": [
    "dataset['baths'] = dataset['baths'].str.replace(r'.*2 Baths*', '2', regex= True)\n",
    "dataset['baths'] = dataset['baths'].str.replace(r'.*3 Baths*', '3', regex= True)\n",
    "dataset['baths'] = dataset['baths'].str.replace(r'.*4 Baths*', '4', regex= True)\n",
    "dataset['baths'] = dataset['baths'].str.replace(r'.*5 Baths*', '5', regex= True)\n",
    "dataset['baths'] = dataset['baths'].str.replace(r'.*6 Baths*', '6', regex= True)\n",
    "dataset['baths'] = dataset['baths'].str.replace(r'.*7 Baths*', '7', regex= True)\n",
    "dataset['baths'] = dataset['baths'].str.replace(r'.*8 Baths*', '8', regex= True)\n",
    "dataset['baths'] = dataset['baths'].str.replace(r'.*9 Baths*', '9', regex= True)\n",
    "dataset['baths'] = dataset['baths'].str.replace(r'.*10 Baths*', '10', regex= True)\n",
    "dataset['baths'] = dataset['baths'].str.replace(r'.*11 Baths*', '11', regex= True)\n",
    "dataset['baths'] = dataset['baths'].str.replace(r'.*12 Baths*', '12', regex= True)\n",
    "dataset['baths'] = dataset['baths'].str.replace(r'.*13 Baths*', '13', regex= True)\n",
    "dataset['baths'] = dataset['baths'].str.replace(r'.*14 Baths*', '14', regex= True)\n",
    "dataset['baths'] = dataset['baths'].str.replace(r'.*15 Baths*', '15', regex= True)\n",
    "dataset['baths'] = dataset['baths'].str.replace(r'.*16 Baths*', '16', regex= True)\n",
    "dataset['baths'] = dataset['baths'].str.replace(r'.*17 Baths*', '17', regex= True)\n",
    "dataset['baths'] = dataset['baths'].str.replace(r'.*18 Baths*', '18', regex= True)\n",
    "dataset['baths'] = dataset['baths'].str.replace(r'.*19 Baths*', '19', regex= True)\n",
    "dataset['baths'] = dataset['baths'].str.replace(r'.*20 Baths*', '20', regex= True)\n",
    "dataset['baths'] = dataset['baths'].str.replace(r'.*21 Baths*', '21', regex= True)\n",
    "dataset['baths'] = dataset['baths'].str.replace(r'.*2.5 Baths*', '2.5', regex= True)\n",
    "dataset['baths'] = dataset['baths'].str.replace(r'.*Bathrooms: 1*', '1', regex= True)\n",
    "dataset['baths'] = dataset['baths'].str.replace(r'.*Bathrooms: 2*', '2', regex= True)\n",
    "dataset['baths'] = dataset['baths'].str.replace(r'.*Bathrooms: 3*', '3', regex= True)\n",
    "dataset['baths'] = dataset['baths'].str.replace(r'.*Bathrooms: 4*', '4', regex= True)\n",
    "dataset['baths'] = dataset['baths'].str.replace(r'.*3 ba*', '3', regex= True)\n",
    "dataset['baths'] = dataset['baths'].str.replace(r'.*1 ba*', '1', regex= True)\n",
    "dataset['baths'] = dataset['baths'].str.replace(r'.*2 ba*', '2', regex= True)\n",
    "dataset['baths'] = dataset['baths'].str.replace(r'.*4 ba*', '4', regex= True)\n",
    "dataset['baths'] = dataset['baths'].str.replace(r'.*5 ba*', '5', regex= True)\n",
    "dataset['baths'] = dataset['baths'].str.replace(r'.*6 ba*', '6', regex= True)\n",
    "dataset['baths'] = dataset['baths'].str.replace(r'.*-- baths*', '2', regex= True)"
   ]
  },
  {
   "cell_type": "code",
   "execution_count": 829,
   "metadata": {},
   "outputs": [
    {
     "data": {
      "text/plain": [
       "2ths                     5\n",
       "15.0                     4\n",
       "14.0                     4\n",
       "9.5                      4\n",
       "10 ba                    4\n",
       "24                       4\n",
       "21                       3\n",
       "4.1 Baths                3\n",
       "23.0                     3\n",
       "124                      3\n",
       "10.5                     3\n",
       "30 Baths                 3\n",
       "40                       2\n",
       "12.5                     2\n",
       "27                       2\n",
       "9.5.                     2\n",
       "30                       2\n",
       "12.5.                    2\n",
       "24.0                     2\n",
       "40 Baths                 2\n",
       "22.0                     2\n",
       "3ths                     2\n",
       "26                       2\n",
       "11.5.                    2\n",
       "18.0                     2\n",
       "20.0                     2\n",
       "22                       2\n",
       "121                      1\n",
       "35                       1\n",
       "29                       1\n",
       "41.0                     1\n",
       "116 / 116 / 116          1\n",
       "1 / 1 / 1 / 1            1\n",
       "34.0                     1\n",
       "127                      1\n",
       "3-1 / 2-2                1\n",
       "14.5.                    1\n",
       "17.0                     1\n",
       "55.0                     1\n",
       "30.0                     1\n",
       "64.0                     1\n",
       "60 Baths                 1\n",
       "32                       1\n",
       "1SemiMod                 1\n",
       "1241                     1\n",
       "1-0 / 1-0 / 1            1\n",
       "1 / 1-0 / 1-0 / 1-0      1\n",
       "23                       1\n",
       "44.0                     1\n",
       "2-1 / 2-1 / 1-1 / 1-1    1\n",
       "Name: baths, dtype: int64"
      ]
     },
     "execution_count": 829,
     "metadata": {},
     "output_type": "execute_result"
    }
   ],
   "source": [
    "# смотрим на значения!!!!!!!!!!!!!!!!\n",
    "dataset['baths'].value_counts().tail(50)"
   ]
  },
  {
   "cell_type": "code",
   "execution_count": null,
   "metadata": {},
   "outputs": [],
   "source": [
    "dataset['baths'].value_counts()"
   ]
  },
  {
   "cell_type": "code",
   "execution_count": 833,
   "metadata": {
    "scrolled": true
   },
   "outputs": [
    {
     "data": {
      "text/plain": [
       "{'atAGlanceFacts': [{'factValue': '', 'factLabel': 'Year built'}, {'factValue': '', 'factLabel': 'Remodeled year'}, {'factValue': '', 'factLabel': 'Heating'}, {'factValue': '', 'factLabel': 'Cooling'}, {'factValue': '', 'factLabel': 'Parking'}, {'factValue': '—', 'factLabel': 'lotsize'}, {'factValue': None, 'factLabel': 'Price/sqft'}]}                                                 7174\n",
       "{'atAGlanceFacts': [{'factValue': None, 'factLabel': 'Year built'}, {'factValue': None, 'factLabel': 'Remodeled year'}, {'factValue': None, 'factLabel': 'Heating'}, {'factValue': None, 'factLabel': 'Cooling'}, {'factValue': None, 'factLabel': 'Parking'}, {'factValue': None, 'factLabel': 'lotsize'}, {'factValue': None, 'factLabel': 'Price/sqft'}]}                                      3532\n",
       "{'atAGlanceFacts': [{'factValue': '', 'factLabel': 'Year built'}, {'factValue': '', 'factLabel': 'Remodeled year'}, {'factValue': '', 'factLabel': 'Heating'}, {'factValue': '', 'factLabel': 'Cooling'}, {'factValue': '', 'factLabel': 'Parking'}, {'factValue': '', 'factLabel': 'lotsize'}, {'factValue': None, 'factLabel': 'Price/sqft'}]}                                                   567\n",
       "{'atAGlanceFacts': [{'factValue': '', 'factLabel': 'Year built'}, {'factValue': '', 'factLabel': 'Remodeled year'}, {'factValue': '', 'factLabel': 'Heating'}, {'factValue': '', 'factLabel': 'Cooling'}, {'factValue': '', 'factLabel': 'Parking'}, {'factValue': '10000', 'factLabel': 'lotsize'}, {'factValue': None, 'factLabel': 'Price/sqft'}]}                                              533\n",
       "{'atAGlanceFacts': [{'factValue': '', 'factLabel': 'Year built'}, {'factValue': '', 'factLabel': 'Remodeled year'}, {'factValue': '', 'factLabel': 'Heating'}, {'factValue': '', 'factLabel': 'Cooling'}, {'factValue': '', 'factLabel': 'Parking'}, {'factValue': '10,000 Sq. Ft.', 'factLabel': 'lotsize'}, {'factValue': None, 'factLabel': 'Price/sqft'}]}                                     370\n",
       "                                                                                                                                                                                                                                                                                                                                                                                                  ... \n",
       "{'atAGlanceFacts': [{'factValue': '1956', 'factLabel': 'Year built'}, {'factValue': '', 'factLabel': 'Remodeled year'}, {'factValue': 'Forced air', 'factLabel': 'Heating'}, {'factValue': 'Central', 'factLabel': 'Cooling'}, {'factValue': '5 spaces', 'factLabel': 'Parking'}, {'factValue': '8,664 sqft', 'factLabel': 'lotsize'}, {'factValue': '$333', 'factLabel': 'Price/sqft'}]}            1\n",
       "{'atAGlanceFacts': [{'factValue': '1958', 'factLabel': 'Year built'}, {'factValue': '1968', 'factLabel': 'Remodeled year'}, {'factValue': '', 'factLabel': 'Heating'}, {'factValue': '', 'factLabel': 'Cooling'}, {'factValue': '', 'factLabel': 'Parking'}, {'factValue': '7,013 sqft', 'factLabel': 'lotsize'}, {'factValue': None, 'factLabel': 'Price/sqft'}]}                                   1\n",
       "{'atAGlanceFacts': [{'factValue': '2004', 'factLabel': 'Year built'}, {'factValue': '', 'factLabel': 'Remodeled year'}, {'factValue': 'Other', 'factLabel': 'Heating'}, {'factValue': 'Central', 'factLabel': 'Cooling'}, {'factValue': '2 spaces', 'factLabel': 'Parking'}, {'factValue': '6,673 sqft', 'factLabel': 'lotsize'}, {'factValue': '$150', 'factLabel': 'Price/sqft'}]}                 1\n",
       "{'atAGlanceFacts': [{'factValue': '2005', 'factLabel': 'Year built'}, {'factValue': '', 'factLabel': 'Remodeled year'}, {'factValue': 'Forced Air', 'factLabel': 'Heating'}, {'factValue': '', 'factLabel': 'Cooling'}, {'factValue': 'Attached Garage', 'factLabel': 'Parking'}, {'factValue': '0.25 acres', 'factLabel': 'lotsize'}, {'factValue': '$130/sqft', 'factLabel': 'Price/sqft'}]}       1\n",
       "{'atAGlanceFacts': [{'factValue': '2010', 'factLabel': 'Year built'}, {'factValue': '2010', 'factLabel': 'Remodeled year'}, {'factValue': 'Other', 'factLabel': 'Heating'}, {'factValue': 'Central', 'factLabel': 'Cooling'}, {'factValue': '2 spaces', 'factLabel': 'Parking'}, {'factValue': '7,540 sqft', 'factLabel': 'lotsize'}, {'factValue': None, 'factLabel': 'Price/sqft'}]}               1\n",
       "Name: homeFacts, Length: 321009, dtype: int64"
      ]
     },
     "execution_count": 833,
     "metadata": {},
     "output_type": "execute_result"
    }
   ],
   "source": [
    "dataset['homeFacts'].value_counts()"
   ]
  },
  {
   "cell_type": "code",
   "execution_count": 837,
   "metadata": {},
   "outputs": [
    {
     "data": {
      "text/plain": [
       "Central Vacuum, Humidifier, Redecorated, Utility Connection, Walk-In Closets, Wet Bar          1\n",
       "Ceiling Fan, Hot Tub                                                                           1\n",
       "FAMILYRM, Master Bedroom, See Thru                                                             1\n",
       "Air Filter, Ceiling Fan, Central Vacuum, In-Law Quarters, Walk-In Closets, Wet Bar             1\n",
       "Brick, Gas Log, Fireplace Insert, Two                                                          1\n",
       "Central Vacuum, Extra Closets, Storage, Utility Connection, Walk-In Closets                    1\n",
       "3+ Fireplace, Fireplace Family Rm, Fireplace Living Rm, Fireplace Master Bdr, Gas Fireplace    1\n",
       "Living Room, See Thru                                                                          1\n",
       "Air Filter, Ceiling Fan, Extra Closets, In-Law Quarters, Storage, Utility Connection           1\n",
       "Extra Closets, In-Law Quarters, Water Filter, Wet Bar, Wood Burning FP                         1\n",
       "Name: fireplace, dtype: int64"
      ]
     },
     "execution_count": 837,
     "metadata": {},
     "output_type": "execute_result"
    }
   ],
   "source": [
    "dataset['fireplace'].value_counts().tail(10)"
   ]
  },
  {
   "cell_type": "code",
   "execution_count": 840,
   "metadata": {},
   "outputs": [
    {
     "data": {
      "text/plain": [
       "Wachee                       1\n",
       "Forest Park                  1\n",
       "Britt                        1\n",
       "Largo                        1\n",
       "Freedom                      1\n",
       "Outside Area (Outside Ca)    1\n",
       "Quito Ecuador                1\n",
       "China                        1\n",
       "Chinatown                    1\n",
       "LAKE BUENA VISTA             1\n",
       "Jackson Township             1\n",
       "New Palestine                1\n",
       "Midkiff                      1\n",
       "Point Charlotte              1\n",
       "Palm Beach Gardens           1\n",
       "Hyden                        1\n",
       "Savage                       1\n",
       "Beulah                       1\n",
       "Belllingham                  1\n",
       "Superior Twp                 1\n",
       "Mabank                       1\n",
       "Mem                          1\n",
       "Gettysburg                   1\n",
       "St. Johns                    1\n",
       "St george                    1\n",
       "Pittsfield Township          1\n",
       "Taylor Landing               1\n",
       "Indian Orchard               1\n",
       "Baldwin Hills                1\n",
       "Conewango Valley             1\n",
       "SAND LAKE                    1\n",
       "Mayfield Hts                 1\n",
       "Lower East Side              1\n",
       "Hueysville                   1\n",
       "Hindman                      1\n",
       "Mead                         1\n",
       "Pleasanton                   1\n",
       "Biola                        1\n",
       "Williamsport                 1\n",
       "Lakewood Twp.                1\n",
       "FORT COLLINS                 1\n",
       "Mallie                       1\n",
       "Fort Ogden                   1\n",
       "Mount Gilead                 1\n",
       "Millican                     1\n",
       "Jacinto City                 1\n",
       "Breezy Point                 1\n",
       "Goodell                      1\n",
       "Santa Fe                     1\n",
       "Doctor Philips               1\n",
       "Name: city, dtype: int64"
      ]
     },
     "execution_count": 840,
     "metadata": {},
     "output_type": "execute_result"
    }
   ],
   "source": [
    "dataset['city'].value_counts().tail(50)"
   ]
  },
  {
   "cell_type": "code",
   "execution_count": null,
   "metadata": {},
   "outputs": [],
   "source": [
    "dataset['schools'].value_counts()"
   ]
  },
  {
   "cell_type": "code",
   "execution_count": 841,
   "metadata": {},
   "outputs": [
    {
     "data": {
      "text/plain": [
       "0                                          11854\n",
       "1,200 sqft                                   839\n",
       "1,000 sqft                                   654\n",
       "1,100 sqft                                   573\n",
       "1,800 sqft                                   563\n",
       "                                           ...  \n",
       "6,564                                          1\n",
       "5,247                                          1\n",
       "23,870 sqft                                    1\n",
       "Total interior livable area: 8,203 sqft        1\n",
       "7,155                                          1\n",
       "Name: sqft, Length: 25405, dtype: int64"
      ]
     },
     "execution_count": 841,
     "metadata": {},
     "output_type": "execute_result"
    }
   ],
   "source": [
    "dataset['sqft'].value_counts()"
   ]
  },
  {
   "cell_type": "code",
   "execution_count": null,
   "metadata": {},
   "outputs": [],
   "source": [
    "dataset['zipcode'].value_counts()"
   ]
  },
  {
   "cell_type": "code",
   "execution_count": 842,
   "metadata": {},
   "outputs": [
    {
     "data": {
      "text/plain": [
       "3 Beds         53459\n",
       "4 Beds         35418\n",
       "3              31406\n",
       "2 Beds         26362\n",
       "4              20030\n",
       "               ...  \n",
       "8,102 sqft         1\n",
       "5,566 sqft         1\n",
       "31.37 acres        1\n",
       "7.66 acres         1\n",
       "6.41 acres         1\n",
       "Name: beds, Length: 1184, dtype: int64"
      ]
     },
     "execution_count": 842,
     "metadata": {},
     "output_type": "execute_result"
    }
   ],
   "source": [
    "dataset['beds'].value_counts()"
   ]
  },
  {
   "cell_type": "code",
   "execution_count": 843,
   "metadata": {},
   "outputs": [
    {
     "data": {
      "text/plain": [
       "FL    115449\n",
       "TX     83786\n",
       "NY     24479\n",
       "CA     23386\n",
       "NC     21862\n",
       "TN     18340\n",
       "WA     13826\n",
       "OH     12588\n",
       "IL      8939\n",
       "NV      8482\n",
       "GA      6705\n",
       "CO      6404\n",
       "PA      5561\n",
       "MI      5161\n",
       "DC      4674\n",
       "AZ      3347\n",
       "IN      3328\n",
       "OR      2789\n",
       "MA      1516\n",
       "UT      1325\n",
       "MD      1090\n",
       "VT       868\n",
       "MO       866\n",
       "VA       801\n",
       "WI       452\n",
       "NJ       436\n",
       "ME       259\n",
       "IA       242\n",
       "KY        90\n",
       "OK        49\n",
       "MS        40\n",
       "SC        28\n",
       "MT         7\n",
       "DE         5\n",
       "OS         1\n",
       "AL         1\n",
       "BA         1\n",
       "OT         1\n",
       "Fl         1\n",
       "Name: state, dtype: int64"
      ]
     },
     "execution_count": 843,
     "metadata": {},
     "output_type": "execute_result"
    }
   ],
   "source": [
    "dataset['state'].value_counts()"
   ]
  },
  {
   "cell_type": "code",
   "execution_count": 844,
   "metadata": {},
   "outputs": [
    {
     "data": {
      "text/plain": [
       "1.0                         67454\n",
       "2.0                         55283\n",
       "1                           23086\n",
       "2                           18146\n",
       "3.0                         11275\n",
       "                            ...  \n",
       "58.0                            1\n",
       "3 Story, Multi Level            1\n",
       "Site Built, Townhouse           1\n",
       "3.000                           1\n",
       "1-2 Stories, 3-4 Stories        1\n",
       "Name: stories, Length: 348, dtype: int64"
      ]
     },
     "execution_count": 844,
     "metadata": {},
     "output_type": "execute_result"
    }
   ],
   "source": [
    "dataset['stories'].value_counts()"
   ]
  },
  {
   "cell_type": "code",
   "execution_count": null,
   "metadata": {},
   "outputs": [],
   "source": [
    "dataset['mls-id'].value_counts()"
   ]
  },
  {
   "cell_type": "code",
   "execution_count": null,
   "metadata": {},
   "outputs": [],
   "source": [
    "dataset['MlsId'].value_counts()"
   ]
  },
  {
   "cell_type": "code",
   "execution_count": null,
   "metadata": {},
   "outputs": [],
   "source": []
  }
 ],
 "metadata": {
  "kernelspec": {
   "display_name": "Python 3",
   "language": "python",
   "name": "python3"
  },
  "language_info": {
   "codemirror_mode": {
    "name": "ipython",
    "version": 3
   },
   "file_extension": ".py",
   "mimetype": "text/x-python",
   "name": "python",
   "nbconvert_exporter": "python",
   "pygments_lexer": "ipython3",
   "version": "3.7.4"
  }
 },
 "nbformat": 4,
 "nbformat_minor": 2
}
