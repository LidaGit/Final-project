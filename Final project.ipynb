{
 "cells": [
  {
   "cell_type": "markdown",
   "metadata": {},
   "source": [
    "Exploratory data analysis(EDA )"
   ]
  },
  {
   "cell_type": "markdown",
   "metadata": {},
   "source": [
    "Цель этапа - cформулировать предположения и гипотезы для построения модели. Проверить качество данных и очистить их. Определиться с параметрами модели."
   ]
  },
  {
   "cell_type": "code",
   "execution_count": 3,
   "metadata": {},
   "outputs": [],
   "source": [
    "import pandas as pd\n",
    "import matplotlib.pyplot as plt\n",
    "import seaborn as sns\n",
    "from itertools import combinations\n",
    "from scipy.stats import ttest_ind\n",
    "\n",
    "pd.set_option('display.max_rows', 50) # показывать больше строк\n",
    "pd.set_option('display.max_columns', 50) # показывать больше колонок\n",
    "\n",
    "dataset = pd.read_csv('data.csv')"
   ]
  },
  {
   "cell_type": "code",
   "execution_count": 4,
   "metadata": {},
   "outputs": [
    {
     "data": {
      "text/html": [
       "<div>\n",
       "<style scoped>\n",
       "    .dataframe tbody tr th:only-of-type {\n",
       "        vertical-align: middle;\n",
       "    }\n",
       "\n",
       "    .dataframe tbody tr th {\n",
       "        vertical-align: top;\n",
       "    }\n",
       "\n",
       "    .dataframe thead th {\n",
       "        text-align: right;\n",
       "    }\n",
       "</style>\n",
       "<table border=\"1\" class=\"dataframe\">\n",
       "  <thead>\n",
       "    <tr style=\"text-align: right;\">\n",
       "      <th></th>\n",
       "      <th>status</th>\n",
       "      <th>private pool</th>\n",
       "      <th>propertyType</th>\n",
       "      <th>street</th>\n",
       "      <th>baths</th>\n",
       "      <th>homeFacts</th>\n",
       "      <th>fireplace</th>\n",
       "      <th>city</th>\n",
       "      <th>schools</th>\n",
       "      <th>sqft</th>\n",
       "      <th>zipcode</th>\n",
       "      <th>beds</th>\n",
       "      <th>state</th>\n",
       "      <th>stories</th>\n",
       "      <th>mls-id</th>\n",
       "      <th>PrivatePool</th>\n",
       "      <th>MlsId</th>\n",
       "      <th>target</th>\n",
       "    </tr>\n",
       "  </thead>\n",
       "  <tbody>\n",
       "    <tr>\n",
       "      <td>0</td>\n",
       "      <td>Active</td>\n",
       "      <td>NaN</td>\n",
       "      <td>Single Family Home</td>\n",
       "      <td>240 Heather Ln</td>\n",
       "      <td>3.5</td>\n",
       "      <td>{'atAGlanceFacts': [{'factValue': '2019', 'fac...</td>\n",
       "      <td>Gas Logs</td>\n",
       "      <td>Southern Pines</td>\n",
       "      <td>[{'rating': ['4', '4', '7', 'NR', '4', '7', 'N...</td>\n",
       "      <td>2900</td>\n",
       "      <td>28387</td>\n",
       "      <td>4</td>\n",
       "      <td>NC</td>\n",
       "      <td>NaN</td>\n",
       "      <td>NaN</td>\n",
       "      <td>NaN</td>\n",
       "      <td>611019</td>\n",
       "      <td>$418,000</td>\n",
       "    </tr>\n",
       "    <tr>\n",
       "      <td>1</td>\n",
       "      <td>for sale</td>\n",
       "      <td>NaN</td>\n",
       "      <td>single-family home</td>\n",
       "      <td>12911 E Heroy Ave</td>\n",
       "      <td>3 Baths</td>\n",
       "      <td>{'atAGlanceFacts': [{'factValue': '2019', 'fac...</td>\n",
       "      <td>NaN</td>\n",
       "      <td>Spokane Valley</td>\n",
       "      <td>[{'rating': ['4/10', 'None/10', '4/10'], 'data...</td>\n",
       "      <td>1,947 sqft</td>\n",
       "      <td>99216</td>\n",
       "      <td>3 Beds</td>\n",
       "      <td>WA</td>\n",
       "      <td>2.0</td>\n",
       "      <td>NaN</td>\n",
       "      <td>NaN</td>\n",
       "      <td>201916904</td>\n",
       "      <td>$310,000</td>\n",
       "    </tr>\n",
       "    <tr>\n",
       "      <td>2</td>\n",
       "      <td>for sale</td>\n",
       "      <td>NaN</td>\n",
       "      <td>single-family home</td>\n",
       "      <td>2005 Westridge Rd</td>\n",
       "      <td>2 Baths</td>\n",
       "      <td>{'atAGlanceFacts': [{'factValue': '1961', 'fac...</td>\n",
       "      <td>yes</td>\n",
       "      <td>Los Angeles</td>\n",
       "      <td>[{'rating': ['8/10', '4/10', '8/10'], 'data': ...</td>\n",
       "      <td>3,000 sqft</td>\n",
       "      <td>90049</td>\n",
       "      <td>3 Beds</td>\n",
       "      <td>CA</td>\n",
       "      <td>1.0</td>\n",
       "      <td>NaN</td>\n",
       "      <td>yes</td>\n",
       "      <td>FR19221027</td>\n",
       "      <td>$2,895,000</td>\n",
       "    </tr>\n",
       "    <tr>\n",
       "      <td>3</td>\n",
       "      <td>for sale</td>\n",
       "      <td>NaN</td>\n",
       "      <td>single-family home</td>\n",
       "      <td>4311 Livingston Ave</td>\n",
       "      <td>8 Baths</td>\n",
       "      <td>{'atAGlanceFacts': [{'factValue': '2006', 'fac...</td>\n",
       "      <td>yes</td>\n",
       "      <td>Dallas</td>\n",
       "      <td>[{'rating': ['9/10', '9/10', '10/10', '9/10'],...</td>\n",
       "      <td>6,457 sqft</td>\n",
       "      <td>75205</td>\n",
       "      <td>5 Beds</td>\n",
       "      <td>TX</td>\n",
       "      <td>3.0</td>\n",
       "      <td>NaN</td>\n",
       "      <td>NaN</td>\n",
       "      <td>14191809</td>\n",
       "      <td>$2,395,000</td>\n",
       "    </tr>\n",
       "    <tr>\n",
       "      <td>4</td>\n",
       "      <td>for sale</td>\n",
       "      <td>NaN</td>\n",
       "      <td>lot/land</td>\n",
       "      <td>1524 Kiscoe St</td>\n",
       "      <td>NaN</td>\n",
       "      <td>{'atAGlanceFacts': [{'factValue': '', 'factLab...</td>\n",
       "      <td>NaN</td>\n",
       "      <td>Palm Bay</td>\n",
       "      <td>[{'rating': ['4/10', '5/10', '5/10'], 'data': ...</td>\n",
       "      <td>NaN</td>\n",
       "      <td>32908</td>\n",
       "      <td>NaN</td>\n",
       "      <td>FL</td>\n",
       "      <td>NaN</td>\n",
       "      <td>NaN</td>\n",
       "      <td>NaN</td>\n",
       "      <td>861745</td>\n",
       "      <td>$5,000</td>\n",
       "    </tr>\n",
       "    <tr>\n",
       "      <td>5</td>\n",
       "      <td>for sale</td>\n",
       "      <td>NaN</td>\n",
       "      <td>townhouse</td>\n",
       "      <td>1624 S Newkirk St</td>\n",
       "      <td>NaN</td>\n",
       "      <td>{'atAGlanceFacts': [{'factValue': '1920', 'fac...</td>\n",
       "      <td>NaN</td>\n",
       "      <td>Philadelphia</td>\n",
       "      <td>[{'rating': [], 'data': {'Distance': [], 'Grad...</td>\n",
       "      <td>897 sqft</td>\n",
       "      <td>19145</td>\n",
       "      <td>2 Beds</td>\n",
       "      <td>PA</td>\n",
       "      <td>2.0</td>\n",
       "      <td>NaN</td>\n",
       "      <td>NaN</td>\n",
       "      <td>PAPH847006</td>\n",
       "      <td>$209,000</td>\n",
       "    </tr>\n",
       "    <tr>\n",
       "      <td>6</td>\n",
       "      <td>Active</td>\n",
       "      <td>NaN</td>\n",
       "      <td>Florida</td>\n",
       "      <td>552 Casanova Ct</td>\n",
       "      <td>NaN</td>\n",
       "      <td>{'atAGlanceFacts': [{'factValue': '2006', 'fac...</td>\n",
       "      <td>NaN</td>\n",
       "      <td>POINCIANA</td>\n",
       "      <td>[{'rating': ['3', '3', '1', 'NR'], 'data': {'D...</td>\n",
       "      <td>1,507</td>\n",
       "      <td>34759</td>\n",
       "      <td>NaN</td>\n",
       "      <td>FL</td>\n",
       "      <td>One</td>\n",
       "      <td>NaN</td>\n",
       "      <td>NaN</td>\n",
       "      <td>S5026943</td>\n",
       "      <td>181,500</td>\n",
       "    </tr>\n",
       "    <tr>\n",
       "      <td>7</td>\n",
       "      <td>Active</td>\n",
       "      <td>NaN</td>\n",
       "      <td>NaN</td>\n",
       "      <td>6094 Mingle Dr</td>\n",
       "      <td>NaN</td>\n",
       "      <td>{'atAGlanceFacts': [{'factValue': '1976', 'fac...</td>\n",
       "      <td>NaN</td>\n",
       "      <td>Memphis</td>\n",
       "      <td>[{'rating': ['4', '2', '2'], 'data': {'Distanc...</td>\n",
       "      <td>NaN</td>\n",
       "      <td>38115</td>\n",
       "      <td>NaN</td>\n",
       "      <td>TN</td>\n",
       "      <td>NaN</td>\n",
       "      <td>NaN</td>\n",
       "      <td>NaN</td>\n",
       "      <td>10063506</td>\n",
       "      <td>68,000</td>\n",
       "    </tr>\n",
       "    <tr>\n",
       "      <td>8</td>\n",
       "      <td>Active</td>\n",
       "      <td>NaN</td>\n",
       "      <td>Single Family Home</td>\n",
       "      <td>11182 Owl Ave</td>\n",
       "      <td>2</td>\n",
       "      <td>{'atAGlanceFacts': [{'factValue': '1970', 'fac...</td>\n",
       "      <td>NaN</td>\n",
       "      <td>Mason City</td>\n",
       "      <td>[{'rating': ['2', '2', '4', '7', '4', 'NR'], '...</td>\n",
       "      <td>3588</td>\n",
       "      <td>50401</td>\n",
       "      <td>3</td>\n",
       "      <td>IA</td>\n",
       "      <td>NaN</td>\n",
       "      <td>NaN</td>\n",
       "      <td>NaN</td>\n",
       "      <td>190988</td>\n",
       "      <td>$244,900</td>\n",
       "    </tr>\n",
       "    <tr>\n",
       "      <td>9</td>\n",
       "      <td>NaN</td>\n",
       "      <td>NaN</td>\n",
       "      <td>Single Family</td>\n",
       "      <td>8612 Cedar Plains Ln</td>\n",
       "      <td>3</td>\n",
       "      <td>{'atAGlanceFacts': [{'factValue': '2019', 'fac...</td>\n",
       "      <td>NaN</td>\n",
       "      <td>Houston</td>\n",
       "      <td>[{'rating': ['4/10', '3/10', '2/10'], 'data': ...</td>\n",
       "      <td>1,930</td>\n",
       "      <td>77080</td>\n",
       "      <td>3</td>\n",
       "      <td>TX</td>\n",
       "      <td>2.0</td>\n",
       "      <td>NaN</td>\n",
       "      <td>NaN</td>\n",
       "      <td>73968331</td>\n",
       "      <td>$311,995</td>\n",
       "    </tr>\n",
       "  </tbody>\n",
       "</table>\n",
       "</div>"
      ],
      "text/plain": [
       "     status private pool        propertyType                street    baths  \\\n",
       "0    Active          NaN  Single Family Home        240 Heather Ln      3.5   \n",
       "1  for sale          NaN  single-family home     12911 E Heroy Ave  3 Baths   \n",
       "2  for sale          NaN  single-family home     2005 Westridge Rd  2 Baths   \n",
       "3  for sale          NaN  single-family home   4311 Livingston Ave  8 Baths   \n",
       "4  for sale          NaN            lot/land        1524 Kiscoe St      NaN   \n",
       "5  for sale          NaN           townhouse     1624 S Newkirk St      NaN   \n",
       "6    Active          NaN             Florida      552 Casanova Ct       NaN   \n",
       "7    Active          NaN                 NaN       6094 Mingle Dr       NaN   \n",
       "8    Active          NaN  Single Family Home         11182 Owl Ave        2   \n",
       "9       NaN          NaN       Single Family  8612 Cedar Plains Ln        3   \n",
       "\n",
       "                                           homeFacts fireplace  \\\n",
       "0  {'atAGlanceFacts': [{'factValue': '2019', 'fac...  Gas Logs   \n",
       "1  {'atAGlanceFacts': [{'factValue': '2019', 'fac...       NaN   \n",
       "2  {'atAGlanceFacts': [{'factValue': '1961', 'fac...       yes   \n",
       "3  {'atAGlanceFacts': [{'factValue': '2006', 'fac...       yes   \n",
       "4  {'atAGlanceFacts': [{'factValue': '', 'factLab...       NaN   \n",
       "5  {'atAGlanceFacts': [{'factValue': '1920', 'fac...       NaN   \n",
       "6  {'atAGlanceFacts': [{'factValue': '2006', 'fac...       NaN   \n",
       "7  {'atAGlanceFacts': [{'factValue': '1976', 'fac...       NaN   \n",
       "8  {'atAGlanceFacts': [{'factValue': '1970', 'fac...       NaN   \n",
       "9  {'atAGlanceFacts': [{'factValue': '2019', 'fac...       NaN   \n",
       "\n",
       "             city                                            schools  \\\n",
       "0  Southern Pines  [{'rating': ['4', '4', '7', 'NR', '4', '7', 'N...   \n",
       "1  Spokane Valley  [{'rating': ['4/10', 'None/10', '4/10'], 'data...   \n",
       "2     Los Angeles  [{'rating': ['8/10', '4/10', '8/10'], 'data': ...   \n",
       "3          Dallas  [{'rating': ['9/10', '9/10', '10/10', '9/10'],...   \n",
       "4        Palm Bay  [{'rating': ['4/10', '5/10', '5/10'], 'data': ...   \n",
       "5    Philadelphia  [{'rating': [], 'data': {'Distance': [], 'Grad...   \n",
       "6       POINCIANA  [{'rating': ['3', '3', '1', 'NR'], 'data': {'D...   \n",
       "7         Memphis  [{'rating': ['4', '2', '2'], 'data': {'Distanc...   \n",
       "8      Mason City  [{'rating': ['2', '2', '4', '7', '4', 'NR'], '...   \n",
       "9         Houston  [{'rating': ['4/10', '3/10', '2/10'], 'data': ...   \n",
       "\n",
       "         sqft zipcode    beds state stories mls-id PrivatePool       MlsId  \\\n",
       "0        2900   28387       4    NC     NaN    NaN         NaN      611019   \n",
       "1  1,947 sqft   99216  3 Beds    WA     2.0    NaN         NaN   201916904   \n",
       "2  3,000 sqft   90049  3 Beds    CA     1.0    NaN         yes  FR19221027   \n",
       "3  6,457 sqft   75205  5 Beds    TX     3.0    NaN         NaN    14191809   \n",
       "4         NaN   32908     NaN    FL     NaN    NaN         NaN      861745   \n",
       "5    897 sqft   19145  2 Beds    PA     2.0    NaN         NaN  PAPH847006   \n",
       "6       1,507   34759     NaN    FL     One    NaN         NaN    S5026943   \n",
       "7         NaN   38115     NaN    TN     NaN    NaN         NaN    10063506   \n",
       "8        3588   50401       3    IA     NaN    NaN         NaN      190988   \n",
       "9       1,930   77080       3    TX     2.0    NaN         NaN    73968331   \n",
       "\n",
       "       target  \n",
       "0    $418,000  \n",
       "1    $310,000  \n",
       "2  $2,895,000  \n",
       "3  $2,395,000  \n",
       "4      $5,000  \n",
       "5    $209,000  \n",
       "6     181,500  \n",
       "7      68,000  \n",
       "8    $244,900  \n",
       "9    $311,995  "
      ]
     },
     "metadata": {},
     "output_type": "display_data"
    },
    {
     "name": "stdout",
     "output_type": "stream",
     "text": [
      "<class 'pandas.core.frame.DataFrame'>\n",
      "RangeIndex: 377185 entries, 0 to 377184\n",
      "Data columns (total 18 columns):\n",
      "status          337267 non-null object\n",
      "private pool    4181 non-null object\n",
      "propertyType    342452 non-null object\n",
      "street          377183 non-null object\n",
      "baths           270847 non-null object\n",
      "homeFacts       377185 non-null object\n",
      "fireplace       103115 non-null object\n",
      "city            377151 non-null object\n",
      "schools         377185 non-null object\n",
      "sqft            336608 non-null object\n",
      "zipcode         377185 non-null object\n",
      "beds            285903 non-null object\n",
      "state           377185 non-null object\n",
      "stories         226470 non-null object\n",
      "mls-id          24942 non-null object\n",
      "PrivatePool     40311 non-null object\n",
      "MlsId           310305 non-null object\n",
      "target          374704 non-null object\n",
      "dtypes: object(18)\n",
      "memory usage: 51.8+ MB\n"
     ]
    }
   ],
   "source": [
    "# Получаем информацию о датафрейме\n",
    "display(stud.head(10))\n",
    "dataset.info()"
   ]
  },
  {
   "cell_type": "code",
   "execution_count": 5,
   "metadata": {},
   "outputs": [
    {
     "data": {
      "text/plain": [
       "status           39918\n",
       "private pool    373004\n",
       "propertyType     34733\n",
       "street               2\n",
       "baths           106338\n",
       "homeFacts            0\n",
       "fireplace       274070\n",
       "city                34\n",
       "schools              0\n",
       "sqft             40577\n",
       "zipcode              0\n",
       "beds             91282\n",
       "state                0\n",
       "stories         150715\n",
       "mls-id          352243\n",
       "PrivatePool     336874\n",
       "MlsId            66880\n",
       "target            2481\n",
       "dtype: int64"
      ]
     },
     "execution_count": 5,
     "metadata": {},
     "output_type": "execute_result"
    }
   ],
   "source": [
    "# Постчитаем количество пропущенных занчений для каждого из столбцов \n",
    "dataset.isna().sum()"
   ]
  },
  {
   "cell_type": "code",
   "execution_count": 7,
   "metadata": {},
   "outputs": [
    {
     "data": {
      "text/plain": [
       "for sale                   156104\n",
       "Active                     105207\n",
       "For sale                    43465\n",
       "foreclosure                  6426\n",
       "New construction             5475\n",
       "                            ...  \n",
       "Backup                          1\n",
       "Pending W/Backup Wanted         1\n",
       "Pending Take Backups            1\n",
       "Pending W/Escape Clause         1\n",
       "Coming soon: Nov 5.             1\n",
       "Name: status, Length: 159, dtype: int64"
      ]
     },
     "execution_count": 7,
     "metadata": {},
     "output_type": "execute_result"
    }
   ],
   "source": [
    "dataset['status'].value_counts()"
   ]
  },
  {
   "cell_type": "code",
   "execution_count": 8,
   "metadata": {},
   "outputs": [
    {
     "data": {
      "text/plain": [
       "Yes    4181\n",
       "Name: private pool, dtype: int64"
      ]
     },
     "execution_count": 8,
     "metadata": {},
     "output_type": "execute_result"
    }
   ],
   "source": [
    "dataset['private pool'].value_counts()"
   ]
  },
  {
   "cell_type": "code",
   "execution_count": 9,
   "metadata": {},
   "outputs": [
    {
     "data": {
      "text/plain": [
       "single-family home                   92206\n",
       "Single Family                        62869\n",
       "Single Family Home                   31728\n",
       "condo                                25968\n",
       "lot/land                             20552\n",
       "                                     ...  \n",
       "Bungalow, Craftsman, Transitional        1\n",
       "Loft, Art Deco                           1\n",
       "Bungalow, Craftsman, Farm House          1\n",
       "Florida, Ranch, One Story                1\n",
       "Transitional, Colonial                   1\n",
       "Name: propertyType, Length: 1280, dtype: int64"
      ]
     },
     "execution_count": 9,
     "metadata": {},
     "output_type": "execute_result"
    }
   ],
   "source": [
    "dataset['propertyType'].value_counts()"
   ]
  },
  {
   "cell_type": "code",
   "execution_count": 10,
   "metadata": {},
   "outputs": [
    {
     "data": {
      "text/plain": [
       "Address Not Disclosed       672\n",
       "Undisclosed Address         517\n",
       "(undisclosed Address)       391\n",
       "Address Not Available       175\n",
       "Unknown Address              72\n",
       "                           ... \n",
       "7133 Pocahontas St            1\n",
       "742 Lynndale St N             1\n",
       "322 Mountainview Dr #14       1\n",
       "15215 Amberly Dr #208         1\n",
       "3500 N Lake Shore Dr #4A      1\n",
       "Name: street, Length: 337076, dtype: int64"
      ]
     },
     "execution_count": 10,
     "metadata": {},
     "output_type": "execute_result"
    }
   ],
   "source": [
    "dataset['street'].value_counts()"
   ]
  },
  {
   "cell_type": "code",
   "execution_count": 11,
   "metadata": {},
   "outputs": [
    {
     "data": {
      "text/plain": [
       "2 Baths               52466\n",
       "3 Baths               35506\n",
       "2                     20452\n",
       "2.0                   16576\n",
       "4 Baths               14764\n",
       "                      ...  \n",
       "30.0                      1\n",
       "2.8 Baths                 1\n",
       "Bathrooms: SemiMod        1\n",
       "60 Baths                  1\n",
       "39 Baths                  1\n",
       "Name: baths, Length: 229, dtype: int64"
      ]
     },
     "execution_count": 11,
     "metadata": {},
     "output_type": "execute_result"
    }
   ],
   "source": [
    "dataset['baths'].value_counts()"
   ]
  },
  {
   "cell_type": "code",
   "execution_count": 12,
   "metadata": {
    "scrolled": true
   },
   "outputs": [
    {
     "data": {
      "text/plain": [
       "{'atAGlanceFacts': [{'factValue': '', 'factLabel': 'Year built'}, {'factValue': '', 'factLabel': 'Remodeled year'}, {'factValue': '', 'factLabel': 'Heating'}, {'factValue': '', 'factLabel': 'Cooling'}, {'factValue': '', 'factLabel': 'Parking'}, {'factValue': '—', 'factLabel': 'lotsize'}, {'factValue': None, 'factLabel': 'Price/sqft'}]}                                                                                           7174\n",
       "{'atAGlanceFacts': [{'factValue': None, 'factLabel': 'Year built'}, {'factValue': None, 'factLabel': 'Remodeled year'}, {'factValue': None, 'factLabel': 'Heating'}, {'factValue': None, 'factLabel': 'Cooling'}, {'factValue': None, 'factLabel': 'Parking'}, {'factValue': None, 'factLabel': 'lotsize'}, {'factValue': None, 'factLabel': 'Price/sqft'}]}                                                                                3532\n",
       "{'atAGlanceFacts': [{'factValue': '', 'factLabel': 'Year built'}, {'factValue': '', 'factLabel': 'Remodeled year'}, {'factValue': '', 'factLabel': 'Heating'}, {'factValue': '', 'factLabel': 'Cooling'}, {'factValue': '', 'factLabel': 'Parking'}, {'factValue': '', 'factLabel': 'lotsize'}, {'factValue': None, 'factLabel': 'Price/sqft'}]}                                                                                             567\n",
       "{'atAGlanceFacts': [{'factValue': '', 'factLabel': 'Year built'}, {'factValue': '', 'factLabel': 'Remodeled year'}, {'factValue': '', 'factLabel': 'Heating'}, {'factValue': '', 'factLabel': 'Cooling'}, {'factValue': '', 'factLabel': 'Parking'}, {'factValue': '10000', 'factLabel': 'lotsize'}, {'factValue': None, 'factLabel': 'Price/sqft'}]}                                                                                        533\n",
       "{'atAGlanceFacts': [{'factValue': '', 'factLabel': 'Year built'}, {'factValue': '', 'factLabel': 'Remodeled year'}, {'factValue': '', 'factLabel': 'Heating'}, {'factValue': '', 'factLabel': 'Cooling'}, {'factValue': '', 'factLabel': 'Parking'}, {'factValue': '10,000 Sq. Ft.', 'factLabel': 'lotsize'}, {'factValue': None, 'factLabel': 'Price/sqft'}]}                                                                               370\n",
       "                                                                                                                                                                                                                                                                                                                                                                                                                                            ... \n",
       "{'atAGlanceFacts': [{'factValue': '1954', 'factLabel': 'Year built'}, {'factValue': '1954', 'factLabel': 'Remodeled year'}, {'factValue': 'Other', 'factLabel': 'Heating'}, {'factValue': 'Other', 'factLabel': 'Cooling'}, {'factValue': 'Carport', 'factLabel': 'Parking'}, {'factValue': None, 'factLabel': 'lotsize'}, {'factValue': '$340', 'factLabel': 'Price/sqft'}]}                                                                  1\n",
       "{'atAGlanceFacts': [{'factValue': '1913', 'factLabel': 'Year built'}, {'factValue': '1920', 'factLabel': 'Remodeled year'}, {'factValue': 'Forced air', 'factLabel': 'Heating'}, {'factValue': 'Central', 'factLabel': 'Cooling'}, {'factValue': '1 space', 'factLabel': 'Parking'}, {'factValue': '2,273 sqft', 'factLabel': 'lotsize'}, {'factValue': '$1,042', 'factLabel': 'Price/sqft'}]}                                                 1\n",
       "{'atAGlanceFacts': [{'factValue': '1900', 'factLabel': 'Year built'}, {'factValue': '', 'factLabel': 'Remodeled year'}, {'factValue': 'Gas Heater - Vented, Stove - Wood', 'factLabel': 'Heating'}, {'factValue': '', 'factLabel': 'Cooling'}, {'factValue': 'Parking', 'factLabel': 'Parking'}, {'factValue': '1772021', 'factLabel': 'lotsize'}, {'factValue': '$333', 'factLabel': 'Price/sqft'}]}                                          1\n",
       "{'atAGlanceFacts': [{'factValue': '1967', 'factLabel': 'Year built'}, {'factValue': '1967', 'factLabel': 'Remodeled year'}, {'factValue': 'Central Air', 'factLabel': 'Heating'}, {'factValue': 'Has Cooling', 'factLabel': 'Cooling'}, {'factValue': '', 'factLabel': 'Parking'}, {'factValue': '—', 'factLabel': 'lotsize'}, {'factValue': '$304 / Sq. Ft.', 'factLabel': 'Price/sqft'}]}                                                    1\n",
       "{'atAGlanceFacts': [{'factValue': '1996', 'factLabel': 'Year built'}, {'factValue': '', 'factLabel': 'Remodeled year'}, {'factValue': 'Gas Heat', 'factLabel': 'Heating'}, {'factValue': 'Refrigeration, Ceiling Fan(s)', 'factLabel': 'Cooling'}, {'factValue': 'Electric Door Opener, Slab Parking Spaces', 'factLabel': 'Parking'}, {'factValue': '8816', 'factLabel': 'lotsize'}, {'factValue': '$126', 'factLabel': 'Price/sqft'}]}       1\n",
       "Name: homeFacts, Length: 321009, dtype: int64"
      ]
     },
     "execution_count": 12,
     "metadata": {},
     "output_type": "execute_result"
    }
   ],
   "source": [
    "dataset['homeFacts'].value_counts()"
   ]
  },
  {
   "cell_type": "code",
   "execution_count": 13,
   "metadata": {},
   "outputs": [
    {
     "data": {
      "text/plain": [
       "yes                                                                 50356\n",
       "Yes                                                                 20856\n",
       "1                                                                   14544\n",
       "2                                                                    2432\n",
       "Not Applicable                                                       1993\n",
       "                                                                    ...  \n",
       "Fireplace - Wood Burning, Ceiling Fan(s)                                1\n",
       "Ceiling Fan, Utility Connection, Wet Bar                                1\n",
       "Dehumidifier, Storage, Walk-In Closets, Wet Bar, Wood Burning FP        1\n",
       "Gas, Two Way, One                                                       1\n",
       "Extra Closets, In-Law Quarters, Storage, Utility Connection             1\n",
       "Name: fireplace, Length: 1653, dtype: int64"
      ]
     },
     "execution_count": 13,
     "metadata": {},
     "output_type": "execute_result"
    }
   ],
   "source": [
    "dataset['fireplace'].value_counts()"
   ]
  },
  {
   "cell_type": "code",
   "execution_count": 14,
   "metadata": {},
   "outputs": [
    {
     "data": {
      "text/plain": [
       "Houston             24442\n",
       "San Antonio         15592\n",
       "Miami               15524\n",
       "Jacksonville        10015\n",
       "Dallas               8856\n",
       "                    ...  \n",
       "Nolanville              1\n",
       "Eastvale                1\n",
       "West Los Angeles        1\n",
       "Glade Park              1\n",
       "Quincy                  1\n",
       "Name: city, Length: 2026, dtype: int64"
      ]
     },
     "execution_count": 14,
     "metadata": {},
     "output_type": "execute_result"
    }
   ],
   "source": [
    "dataset['city'].value_counts()"
   ]
  },
  {
   "cell_type": "code",
   "execution_count": 15,
   "metadata": {},
   "outputs": [
    {
     "data": {
      "text/plain": [
       "[{'rating': [], 'data': {'Distance': [], 'Grades': []}, 'name': []}]                                                                                                                                                                                                                                                                                                                                                                                                  4204\n",
       "[{'rating': ['4/10', '5/10', '6/10'], 'data': {'Distance': ['39.69mi', '39.69mi', '39.69mi'], 'Grades': ['9-12', '6-8', 'PK-5']}, 'name': ['Fort Hancock High School', 'Fort Hancock Middle School', 'Benito Martinez Elementary School']}]                                                                                                                                                                                                                            222\n",
       "[{'rating': ['4/10', '6/10', '3/10'], 'data': {'Distance': ['3.62mi', '3.62mi', '3.62mi'], 'Grades': ['6-8', 'PK-5', '9-12']}, 'name': ['Horizon Middle School', 'Desert Hills Elementary School', 'Horizon High School']}]                                                                                                                                                                                                                                            168\n",
       "[{'rating': ['5/10', '3/10', '5/10'], 'data': {'Distance': ['9.71mi', '8.92mi', '1.56mi'], 'Grades': ['5-8', '9-12', 'K-4']}, 'name': ['Cheatham Middle School', 'Cheatham Co Central', 'West Cheatham Elementary School']}]                                                                                                                                                                                                                                           133\n",
       "[{'rating': ['10/10', '2/10'], 'data': {'Distance': ['22.4 mi', '1.5 mi'], 'Grades': ['PK-8', '9-12']}, 'name': ['Air Base Elementary School', 'Booker T. Washington Senior High School']}]                                                                                                                                                                                                                                                                             90\n",
       "                                                                                                                                                                                                                                                                                                                                                                                                                                                                      ... \n",
       "[{'rating': ['2/10', '6/10', '3/10'], 'data': {'Distance': ['0.75mi', '2.89mi', '1.11mi'], 'Grades': ['PK-5', '9-12', '6-8']}, 'name': ['Finch Elementary School', 'Early College High School At Carver', 'Sylvan Hills Middle School']}]                                                                                                                                                                                                                                1\n",
       "[{'rating': ['2/10', '2/10', '2/10'], 'data': {'Distance': ['1.2 mi', '3.4 mi', '2.8 mi'], 'Grades': ['PK-5', '6-8', '9-12']}, 'name': ['Lakeforest Elementary School', 'E B Aycock Middle School', 'South Central High School']}]                                                                                                                                                                                                                                       1\n",
       "[{'rating': ['5', '5', '6', '5', '6', 'NR', 'NR'], 'data': {'Distance': ['0.8 mi', '0.1 mi', '0.7 mi', '0.5 mi', '1.7 mi', '1.0 mi', '1.2 mi'], 'Grades': ['K–5', '6–8', '9–12', 'K–5', '6–8', 'K–8', 'PK–5']}, 'name': ['Medill Elementary School', 'Thomas Ewing Junior High School', 'Lancaster High School', 'East Elementary School', 'General Sherman Junior High School', 'St Mary Elementary Private School', 'St Bernadette Elementary Private School']}]       1\n",
       "[{'rating': ['8', 'NR', '8', '10'], 'data': {'Distance': ['0.1 mi', '0.0 mi', '0.0 mi', '0.1 mi'], 'Grades': ['K to 5', 'K to 12', '6 to 8', '6 to 8']}, 'name': ['P.S.10 Magnet School For Math, Science & Design Technology', 'PS 53', 'Junior High School 88 Peter Rouget', 'New Voices School of Academic And Creative Arts']}]                                                                                                                                      1\n",
       "[{'rating': ['8/10', '8/10', '7/10'], 'data': {'Distance': ['1.33mi', '3.03mi', '2.56mi'], 'Grades': ['6-8', 'PK-5', '9-12']}, 'name': ['Rapid Run Middle School', 'John Foster Dulles Elementary School', 'Oak Hills High School']}]                                                                                                                                                                                                                                    1\n",
       "Name: schools, Length: 297365, dtype: int64"
      ]
     },
     "execution_count": 15,
     "metadata": {},
     "output_type": "execute_result"
    }
   ],
   "source": [
    "dataset['schools'].value_counts()"
   ]
  },
  {
   "cell_type": "code",
   "execution_count": 16,
   "metadata": {},
   "outputs": [
    {
     "data": {
      "text/plain": [
       "0                                          11854\n",
       "1,200 sqft                                   839\n",
       "1,000 sqft                                   654\n",
       "1,100 sqft                                   573\n",
       "1,800 sqft                                   563\n",
       "                                           ...  \n",
       "8,087 sqft                                     1\n",
       "Total interior livable area: 4,504 sqft        1\n",
       "12,863                                         1\n",
       "5,442                                          1\n",
       "18,000                                         1\n",
       "Name: sqft, Length: 25405, dtype: int64"
      ]
     },
     "execution_count": 16,
     "metadata": {},
     "output_type": "execute_result"
    }
   ],
   "source": [
    "dataset['sqft'].value_counts()"
   ]
  },
  {
   "cell_type": "code",
   "execution_count": 17,
   "metadata": {},
   "outputs": [
    {
     "data": {
      "text/plain": [
       "32137         2141\n",
       "33131         1563\n",
       "34747         1488\n",
       "78245         1390\n",
       "34759         1333\n",
       "              ... \n",
       "77562            1\n",
       "27610-8706       1\n",
       "97759            1\n",
       "27606-2215       1\n",
       "27703-2540       1\n",
       "Name: zipcode, Length: 4549, dtype: int64"
      ]
     },
     "execution_count": 17,
     "metadata": {},
     "output_type": "execute_result"
    }
   ],
   "source": [
    "dataset['zipcode'].value_counts()"
   ]
  },
  {
   "cell_type": "code",
   "execution_count": 18,
   "metadata": {},
   "outputs": [
    {
     "data": {
      "text/plain": [
       "3 Beds        53459\n",
       "4 Beds        35418\n",
       "3             31406\n",
       "2 Beds        26362\n",
       "4             20030\n",
       "              ...  \n",
       "4,556 sqft        1\n",
       "9,291 sqft        1\n",
       "6.31 acres        1\n",
       "9,365 sqft        1\n",
       "1,568 sqft        1\n",
       "Name: beds, Length: 1184, dtype: int64"
      ]
     },
     "execution_count": 18,
     "metadata": {},
     "output_type": "execute_result"
    }
   ],
   "source": [
    "dataset['beds'].value_counts()"
   ]
  },
  {
   "cell_type": "code",
   "execution_count": 20,
   "metadata": {},
   "outputs": [
    {
     "data": {
      "text/plain": [
       "FL    115449\n",
       "TX     83786\n",
       "NY     24479\n",
       "CA     23386\n",
       "NC     21862\n",
       "TN     18340\n",
       "WA     13826\n",
       "OH     12588\n",
       "IL      8939\n",
       "NV      8482\n",
       "GA      6705\n",
       "CO      6404\n",
       "PA      5561\n",
       "MI      5161\n",
       "DC      4674\n",
       "AZ      3347\n",
       "IN      3328\n",
       "OR      2789\n",
       "MA      1516\n",
       "UT      1325\n",
       "MD      1090\n",
       "VT       868\n",
       "MO       866\n",
       "VA       801\n",
       "WI       452\n",
       "NJ       436\n",
       "ME       259\n",
       "IA       242\n",
       "KY        90\n",
       "OK        49\n",
       "MS        40\n",
       "SC        28\n",
       "MT         7\n",
       "DE         5\n",
       "BA         1\n",
       "AL         1\n",
       "OT         1\n",
       "Fl         1\n",
       "OS         1\n",
       "Name: state, dtype: int64"
      ]
     },
     "execution_count": 20,
     "metadata": {},
     "output_type": "execute_result"
    }
   ],
   "source": [
    "dataset['state'].value_counts()"
   ]
  },
  {
   "cell_type": "code",
   "execution_count": 21,
   "metadata": {},
   "outputs": [
    {
     "data": {
      "text/plain": [
       "1.0                     67454\n",
       "2.0                     55283\n",
       "1                       23086\n",
       "2                       18146\n",
       "3.0                     11275\n",
       "                        ...  \n",
       "2 Stories, Tear Down        1\n",
       "None                        1\n",
       "2 Stories, Townhouse        1\n",
       "Tudor                       1\n",
       "65.0                        1\n",
       "Name: stories, Length: 348, dtype: int64"
      ]
     },
     "execution_count": 21,
     "metadata": {},
     "output_type": "execute_result"
    }
   ],
   "source": [
    "dataset['stories'].value_counts()"
   ]
  },
  {
   "cell_type": "code",
   "execution_count": 22,
   "metadata": {},
   "outputs": [
    {
     "data": {
      "text/plain": [
       "No MLS#      3\n",
       "No           3\n",
       "201909981    2\n",
       "201906177    2\n",
       "A10518254    2\n",
       "            ..\n",
       "10637785     1\n",
       "F10189518    1\n",
       "219109181    1\n",
       "14191254     1\n",
       "100185023    1\n",
       "Name: mls-id, Length: 24907, dtype: int64"
      ]
     },
     "execution_count": 22,
     "metadata": {},
     "output_type": "execute_result"
    }
   ],
   "source": [
    "dataset['mls-id'].value_counts()"
   ]
  },
  {
   "cell_type": "code",
   "execution_count": 23,
   "metadata": {},
   "outputs": [
    {
     "data": {
      "text/plain": [
       "yes    28793\n",
       "Yes    11518\n",
       "Name: PrivatePool, dtype: int64"
      ]
     },
     "execution_count": 23,
     "metadata": {},
     "output_type": "execute_result"
    }
   ],
   "source": [
    "dataset['PrivatePool'].value_counts()"
   ]
  },
  {
   "cell_type": "code",
   "execution_count": 24,
   "metadata": {},
   "outputs": [
    {
     "data": {
      "text/plain": [
       "NO MLS                     24\n",
       "No MLS #                   16\n",
       " A, Houston, TX 77008      13\n",
       " 12A, Orlando, FL 32833    11\n",
       "No                          9\n",
       "                           ..\n",
       "14146832                    1\n",
       "190016452                   1\n",
       "14237675                    1\n",
       "684284                      1\n",
       "72550986                    1\n",
       "Name: MlsId, Length: 232944, dtype: int64"
      ]
     },
     "execution_count": 24,
     "metadata": {},
     "output_type": "execute_result"
    }
   ],
   "source": [
    "dataset['MlsId'].value_counts()"
   ]
  },
  {
   "cell_type": "code",
   "execution_count": 25,
   "metadata": {},
   "outputs": [
    {
     "data": {
      "text/plain": [
       "$225,000     1462\n",
       "$275,000     1355\n",
       "$250,000     1312\n",
       "$350,000     1296\n",
       "$299,900     1276\n",
       "             ... \n",
       "$101,218        1\n",
       "$189,246        1\n",
       "4,980,000       1\n",
       "$348,530        1\n",
       "790,924         1\n",
       "Name: target, Length: 43939, dtype: int64"
      ]
     },
     "execution_count": 25,
     "metadata": {},
     "output_type": "execute_result"
    }
   ],
   "source": [
    "dataset['target'].value_counts()"
   ]
  },
  {
   "cell_type": "code",
   "execution_count": null,
   "metadata": {},
   "outputs": [],
   "source": []
  }
 ],
 "metadata": {
  "kernelspec": {
   "display_name": "Python 3",
   "language": "python",
   "name": "python3"
  },
  "language_info": {
   "codemirror_mode": {
    "name": "ipython",
    "version": 3
   },
   "file_extension": ".py",
   "mimetype": "text/x-python",
   "name": "python",
   "nbconvert_exporter": "python",
   "pygments_lexer": "ipython3",
   "version": "3.7.4"
  }
 },
 "nbformat": 4,
 "nbformat_minor": 2
}
