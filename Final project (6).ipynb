{
 "cells": [
  {
   "cell_type": "markdown",
   "metadata": {},
   "source": [
    "Exploratory data analysis(EDA )"
   ]
  },
  {
   "cell_type": "markdown",
   "metadata": {},
   "source": [
    "Цель этапа - cформулировать предположения и гипотезы для построения модели. Проверить качество данных и очистить их. Определиться с параметрами модели."
   ]
  },
  {
   "cell_type": "code",
   "execution_count": 947,
   "metadata": {},
   "outputs": [],
   "source": [
    "import pandas as pd\n",
    "import matplotlib.pyplot as plt\n",
    "import seaborn as sns\n",
    "import numpy as np\n",
    "import re\n",
    "from itertools import combinations\n",
    "from scipy.stats import ttest_ind\n",
    "\n",
    "pd.set_option('display.max_rows', 50) # показывать больше строк\n",
    "pd.set_option('display.max_columns', 50) # показывать больше колонок\n",
    "\n",
    "dataset = pd.read_csv('data.csv')"
   ]
  },
  {
   "cell_type": "code",
   "execution_count": 948,
   "metadata": {},
   "outputs": [
    {
     "data": {
      "text/html": [
       "<div>\n",
       "<style scoped>\n",
       "    .dataframe tbody tr th:only-of-type {\n",
       "        vertical-align: middle;\n",
       "    }\n",
       "\n",
       "    .dataframe tbody tr th {\n",
       "        vertical-align: top;\n",
       "    }\n",
       "\n",
       "    .dataframe thead th {\n",
       "        text-align: right;\n",
       "    }\n",
       "</style>\n",
       "<table border=\"1\" class=\"dataframe\">\n",
       "  <thead>\n",
       "    <tr style=\"text-align: right;\">\n",
       "      <th></th>\n",
       "      <th>status</th>\n",
       "      <th>private pool</th>\n",
       "      <th>propertyType</th>\n",
       "      <th>street</th>\n",
       "      <th>baths</th>\n",
       "      <th>homeFacts</th>\n",
       "      <th>fireplace</th>\n",
       "      <th>city</th>\n",
       "      <th>schools</th>\n",
       "      <th>sqft</th>\n",
       "      <th>zipcode</th>\n",
       "      <th>beds</th>\n",
       "      <th>state</th>\n",
       "      <th>stories</th>\n",
       "      <th>mls-id</th>\n",
       "      <th>PrivatePool</th>\n",
       "      <th>MlsId</th>\n",
       "      <th>target</th>\n",
       "    </tr>\n",
       "  </thead>\n",
       "  <tbody>\n",
       "    <tr>\n",
       "      <td>0</td>\n",
       "      <td>Active</td>\n",
       "      <td>NaN</td>\n",
       "      <td>Single Family Home</td>\n",
       "      <td>240 Heather Ln</td>\n",
       "      <td>3.5</td>\n",
       "      <td>{'atAGlanceFacts': [{'factValue': '2019', 'fac...</td>\n",
       "      <td>Gas Logs</td>\n",
       "      <td>Southern Pines</td>\n",
       "      <td>[{'rating': ['4', '4', '7', 'NR', '4', '7', 'N...</td>\n",
       "      <td>2900</td>\n",
       "      <td>28387</td>\n",
       "      <td>4</td>\n",
       "      <td>NC</td>\n",
       "      <td>NaN</td>\n",
       "      <td>NaN</td>\n",
       "      <td>NaN</td>\n",
       "      <td>611019</td>\n",
       "      <td>$418,000</td>\n",
       "    </tr>\n",
       "    <tr>\n",
       "      <td>1</td>\n",
       "      <td>for sale</td>\n",
       "      <td>NaN</td>\n",
       "      <td>single-family home</td>\n",
       "      <td>12911 E Heroy Ave</td>\n",
       "      <td>3 Baths</td>\n",
       "      <td>{'atAGlanceFacts': [{'factValue': '2019', 'fac...</td>\n",
       "      <td>NaN</td>\n",
       "      <td>Spokane Valley</td>\n",
       "      <td>[{'rating': ['4/10', 'None/10', '4/10'], 'data...</td>\n",
       "      <td>1,947 sqft</td>\n",
       "      <td>99216</td>\n",
       "      <td>3 Beds</td>\n",
       "      <td>WA</td>\n",
       "      <td>2.0</td>\n",
       "      <td>NaN</td>\n",
       "      <td>NaN</td>\n",
       "      <td>201916904</td>\n",
       "      <td>$310,000</td>\n",
       "    </tr>\n",
       "    <tr>\n",
       "      <td>2</td>\n",
       "      <td>for sale</td>\n",
       "      <td>NaN</td>\n",
       "      <td>single-family home</td>\n",
       "      <td>2005 Westridge Rd</td>\n",
       "      <td>2 Baths</td>\n",
       "      <td>{'atAGlanceFacts': [{'factValue': '1961', 'fac...</td>\n",
       "      <td>yes</td>\n",
       "      <td>Los Angeles</td>\n",
       "      <td>[{'rating': ['8/10', '4/10', '8/10'], 'data': ...</td>\n",
       "      <td>3,000 sqft</td>\n",
       "      <td>90049</td>\n",
       "      <td>3 Beds</td>\n",
       "      <td>CA</td>\n",
       "      <td>1.0</td>\n",
       "      <td>NaN</td>\n",
       "      <td>yes</td>\n",
       "      <td>FR19221027</td>\n",
       "      <td>$2,895,000</td>\n",
       "    </tr>\n",
       "    <tr>\n",
       "      <td>3</td>\n",
       "      <td>for sale</td>\n",
       "      <td>NaN</td>\n",
       "      <td>single-family home</td>\n",
       "      <td>4311 Livingston Ave</td>\n",
       "      <td>8 Baths</td>\n",
       "      <td>{'atAGlanceFacts': [{'factValue': '2006', 'fac...</td>\n",
       "      <td>yes</td>\n",
       "      <td>Dallas</td>\n",
       "      <td>[{'rating': ['9/10', '9/10', '10/10', '9/10'],...</td>\n",
       "      <td>6,457 sqft</td>\n",
       "      <td>75205</td>\n",
       "      <td>5 Beds</td>\n",
       "      <td>TX</td>\n",
       "      <td>3.0</td>\n",
       "      <td>NaN</td>\n",
       "      <td>NaN</td>\n",
       "      <td>14191809</td>\n",
       "      <td>$2,395,000</td>\n",
       "    </tr>\n",
       "    <tr>\n",
       "      <td>4</td>\n",
       "      <td>for sale</td>\n",
       "      <td>NaN</td>\n",
       "      <td>lot/land</td>\n",
       "      <td>1524 Kiscoe St</td>\n",
       "      <td>NaN</td>\n",
       "      <td>{'atAGlanceFacts': [{'factValue': '', 'factLab...</td>\n",
       "      <td>NaN</td>\n",
       "      <td>Palm Bay</td>\n",
       "      <td>[{'rating': ['4/10', '5/10', '5/10'], 'data': ...</td>\n",
       "      <td>NaN</td>\n",
       "      <td>32908</td>\n",
       "      <td>NaN</td>\n",
       "      <td>FL</td>\n",
       "      <td>NaN</td>\n",
       "      <td>NaN</td>\n",
       "      <td>NaN</td>\n",
       "      <td>861745</td>\n",
       "      <td>$5,000</td>\n",
       "    </tr>\n",
       "    <tr>\n",
       "      <td>5</td>\n",
       "      <td>for sale</td>\n",
       "      <td>NaN</td>\n",
       "      <td>townhouse</td>\n",
       "      <td>1624 S Newkirk St</td>\n",
       "      <td>NaN</td>\n",
       "      <td>{'atAGlanceFacts': [{'factValue': '1920', 'fac...</td>\n",
       "      <td>NaN</td>\n",
       "      <td>Philadelphia</td>\n",
       "      <td>[{'rating': [], 'data': {'Distance': [], 'Grad...</td>\n",
       "      <td>897 sqft</td>\n",
       "      <td>19145</td>\n",
       "      <td>2 Beds</td>\n",
       "      <td>PA</td>\n",
       "      <td>2.0</td>\n",
       "      <td>NaN</td>\n",
       "      <td>NaN</td>\n",
       "      <td>PAPH847006</td>\n",
       "      <td>$209,000</td>\n",
       "    </tr>\n",
       "    <tr>\n",
       "      <td>6</td>\n",
       "      <td>Active</td>\n",
       "      <td>NaN</td>\n",
       "      <td>Florida</td>\n",
       "      <td>552 Casanova Ct</td>\n",
       "      <td>NaN</td>\n",
       "      <td>{'atAGlanceFacts': [{'factValue': '2006', 'fac...</td>\n",
       "      <td>NaN</td>\n",
       "      <td>POINCIANA</td>\n",
       "      <td>[{'rating': ['3', '3', '1', 'NR'], 'data': {'D...</td>\n",
       "      <td>1,507</td>\n",
       "      <td>34759</td>\n",
       "      <td>NaN</td>\n",
       "      <td>FL</td>\n",
       "      <td>One</td>\n",
       "      <td>NaN</td>\n",
       "      <td>NaN</td>\n",
       "      <td>S5026943</td>\n",
       "      <td>181,500</td>\n",
       "    </tr>\n",
       "    <tr>\n",
       "      <td>7</td>\n",
       "      <td>Active</td>\n",
       "      <td>NaN</td>\n",
       "      <td>NaN</td>\n",
       "      <td>6094 Mingle Dr</td>\n",
       "      <td>NaN</td>\n",
       "      <td>{'atAGlanceFacts': [{'factValue': '1976', 'fac...</td>\n",
       "      <td>NaN</td>\n",
       "      <td>Memphis</td>\n",
       "      <td>[{'rating': ['4', '2', '2'], 'data': {'Distanc...</td>\n",
       "      <td>NaN</td>\n",
       "      <td>38115</td>\n",
       "      <td>NaN</td>\n",
       "      <td>TN</td>\n",
       "      <td>NaN</td>\n",
       "      <td>NaN</td>\n",
       "      <td>NaN</td>\n",
       "      <td>10063506</td>\n",
       "      <td>68,000</td>\n",
       "    </tr>\n",
       "    <tr>\n",
       "      <td>8</td>\n",
       "      <td>Active</td>\n",
       "      <td>NaN</td>\n",
       "      <td>Single Family Home</td>\n",
       "      <td>11182 Owl Ave</td>\n",
       "      <td>2</td>\n",
       "      <td>{'atAGlanceFacts': [{'factValue': '1970', 'fac...</td>\n",
       "      <td>NaN</td>\n",
       "      <td>Mason City</td>\n",
       "      <td>[{'rating': ['2', '2', '4', '7', '4', 'NR'], '...</td>\n",
       "      <td>3588</td>\n",
       "      <td>50401</td>\n",
       "      <td>3</td>\n",
       "      <td>IA</td>\n",
       "      <td>NaN</td>\n",
       "      <td>NaN</td>\n",
       "      <td>NaN</td>\n",
       "      <td>190988</td>\n",
       "      <td>$244,900</td>\n",
       "    </tr>\n",
       "    <tr>\n",
       "      <td>9</td>\n",
       "      <td>NaN</td>\n",
       "      <td>NaN</td>\n",
       "      <td>Single Family</td>\n",
       "      <td>8612 Cedar Plains Ln</td>\n",
       "      <td>3</td>\n",
       "      <td>{'atAGlanceFacts': [{'factValue': '2019', 'fac...</td>\n",
       "      <td>NaN</td>\n",
       "      <td>Houston</td>\n",
       "      <td>[{'rating': ['4/10', '3/10', '2/10'], 'data': ...</td>\n",
       "      <td>1,930</td>\n",
       "      <td>77080</td>\n",
       "      <td>3</td>\n",
       "      <td>TX</td>\n",
       "      <td>2.0</td>\n",
       "      <td>NaN</td>\n",
       "      <td>NaN</td>\n",
       "      <td>73968331</td>\n",
       "      <td>$311,995</td>\n",
       "    </tr>\n",
       "  </tbody>\n",
       "</table>\n",
       "</div>"
      ],
      "text/plain": [
       "     status private pool        propertyType                street    baths  \\\n",
       "0    Active          NaN  Single Family Home        240 Heather Ln      3.5   \n",
       "1  for sale          NaN  single-family home     12911 E Heroy Ave  3 Baths   \n",
       "2  for sale          NaN  single-family home     2005 Westridge Rd  2 Baths   \n",
       "3  for sale          NaN  single-family home   4311 Livingston Ave  8 Baths   \n",
       "4  for sale          NaN            lot/land        1524 Kiscoe St      NaN   \n",
       "5  for sale          NaN           townhouse     1624 S Newkirk St      NaN   \n",
       "6    Active          NaN             Florida      552 Casanova Ct       NaN   \n",
       "7    Active          NaN                 NaN       6094 Mingle Dr       NaN   \n",
       "8    Active          NaN  Single Family Home         11182 Owl Ave        2   \n",
       "9       NaN          NaN       Single Family  8612 Cedar Plains Ln        3   \n",
       "\n",
       "                                           homeFacts fireplace  \\\n",
       "0  {'atAGlanceFacts': [{'factValue': '2019', 'fac...  Gas Logs   \n",
       "1  {'atAGlanceFacts': [{'factValue': '2019', 'fac...       NaN   \n",
       "2  {'atAGlanceFacts': [{'factValue': '1961', 'fac...       yes   \n",
       "3  {'atAGlanceFacts': [{'factValue': '2006', 'fac...       yes   \n",
       "4  {'atAGlanceFacts': [{'factValue': '', 'factLab...       NaN   \n",
       "5  {'atAGlanceFacts': [{'factValue': '1920', 'fac...       NaN   \n",
       "6  {'atAGlanceFacts': [{'factValue': '2006', 'fac...       NaN   \n",
       "7  {'atAGlanceFacts': [{'factValue': '1976', 'fac...       NaN   \n",
       "8  {'atAGlanceFacts': [{'factValue': '1970', 'fac...       NaN   \n",
       "9  {'atAGlanceFacts': [{'factValue': '2019', 'fac...       NaN   \n",
       "\n",
       "             city                                            schools  \\\n",
       "0  Southern Pines  [{'rating': ['4', '4', '7', 'NR', '4', '7', 'N...   \n",
       "1  Spokane Valley  [{'rating': ['4/10', 'None/10', '4/10'], 'data...   \n",
       "2     Los Angeles  [{'rating': ['8/10', '4/10', '8/10'], 'data': ...   \n",
       "3          Dallas  [{'rating': ['9/10', '9/10', '10/10', '9/10'],...   \n",
       "4        Palm Bay  [{'rating': ['4/10', '5/10', '5/10'], 'data': ...   \n",
       "5    Philadelphia  [{'rating': [], 'data': {'Distance': [], 'Grad...   \n",
       "6       POINCIANA  [{'rating': ['3', '3', '1', 'NR'], 'data': {'D...   \n",
       "7         Memphis  [{'rating': ['4', '2', '2'], 'data': {'Distanc...   \n",
       "8      Mason City  [{'rating': ['2', '2', '4', '7', '4', 'NR'], '...   \n",
       "9         Houston  [{'rating': ['4/10', '3/10', '2/10'], 'data': ...   \n",
       "\n",
       "         sqft zipcode    beds state stories mls-id PrivatePool       MlsId  \\\n",
       "0        2900   28387       4    NC     NaN    NaN         NaN      611019   \n",
       "1  1,947 sqft   99216  3 Beds    WA     2.0    NaN         NaN   201916904   \n",
       "2  3,000 sqft   90049  3 Beds    CA     1.0    NaN         yes  FR19221027   \n",
       "3  6,457 sqft   75205  5 Beds    TX     3.0    NaN         NaN    14191809   \n",
       "4         NaN   32908     NaN    FL     NaN    NaN         NaN      861745   \n",
       "5    897 sqft   19145  2 Beds    PA     2.0    NaN         NaN  PAPH847006   \n",
       "6       1,507   34759     NaN    FL     One    NaN         NaN    S5026943   \n",
       "7         NaN   38115     NaN    TN     NaN    NaN         NaN    10063506   \n",
       "8        3588   50401       3    IA     NaN    NaN         NaN      190988   \n",
       "9       1,930   77080       3    TX     2.0    NaN         NaN    73968331   \n",
       "\n",
       "       target  \n",
       "0    $418,000  \n",
       "1    $310,000  \n",
       "2  $2,895,000  \n",
       "3  $2,395,000  \n",
       "4      $5,000  \n",
       "5    $209,000  \n",
       "6     181,500  \n",
       "7      68,000  \n",
       "8    $244,900  \n",
       "9    $311,995  "
      ]
     },
     "metadata": {},
     "output_type": "display_data"
    },
    {
     "name": "stdout",
     "output_type": "stream",
     "text": [
      "<class 'pandas.core.frame.DataFrame'>\n",
      "RangeIndex: 377185 entries, 0 to 377184\n",
      "Data columns (total 18 columns):\n",
      "status          337267 non-null object\n",
      "private pool    4181 non-null object\n",
      "propertyType    342452 non-null object\n",
      "street          377183 non-null object\n",
      "baths           270847 non-null object\n",
      "homeFacts       377185 non-null object\n",
      "fireplace       103115 non-null object\n",
      "city            377151 non-null object\n",
      "schools         377185 non-null object\n",
      "sqft            336608 non-null object\n",
      "zipcode         377185 non-null object\n",
      "beds            285903 non-null object\n",
      "state           377185 non-null object\n",
      "stories         226470 non-null object\n",
      "mls-id          24942 non-null object\n",
      "PrivatePool     40311 non-null object\n",
      "MlsId           310305 non-null object\n",
      "target          374704 non-null object\n",
      "dtypes: object(18)\n",
      "memory usage: 51.8+ MB\n"
     ]
    }
   ],
   "source": [
    "# Получаем информацию о датафрейме\n",
    "display(dataset.head(10))\n",
    "dataset.info()"
   ]
  },
  {
   "cell_type": "code",
   "execution_count": 949,
   "metadata": {},
   "outputs": [
    {
     "data": {
      "text/plain": [
       "status           39918\n",
       "private pool    373004\n",
       "propertyType     34733\n",
       "street               2\n",
       "baths           106338\n",
       "homeFacts            0\n",
       "fireplace       274070\n",
       "city                34\n",
       "schools              0\n",
       "sqft             40577\n",
       "zipcode              0\n",
       "beds             91282\n",
       "state                0\n",
       "stories         150715\n",
       "mls-id          352243\n",
       "PrivatePool     336874\n",
       "MlsId            66880\n",
       "target            2481\n",
       "dtype: int64"
      ]
     },
     "execution_count": 949,
     "metadata": {},
     "output_type": "execute_result"
    }
   ],
   "source": [
    "# Постчитаем количество пропущенных занчений для каждого из столбцов \n",
    "dataset.isna().sum()"
   ]
  },
  {
   "cell_type": "code",
   "execution_count": 950,
   "metadata": {},
   "outputs": [
    {
     "data": {
      "text/plain": [
       "for sale                  156104\n",
       "Active                    105207\n",
       "For sale                   43465\n",
       "foreclosure                 6426\n",
       "New construction            5475\n",
       "                           ...  \n",
       "Coming soon: Nov 11.           1\n",
       "Pending Backups Wanted         1\n",
       "Coming soon: Dec 25.           1\n",
       "Coming soon: Nov 26.           1\n",
       "Coming soon: Nov 12.           1\n",
       "Name: status, Length: 159, dtype: int64"
      ]
     },
     "execution_count": 950,
     "metadata": {},
     "output_type": "execute_result"
    }
   ],
   "source": [
    "dataset['status'].value_counts()"
   ]
  },
  {
   "cell_type": "code",
   "execution_count": 951,
   "metadata": {},
   "outputs": [],
   "source": [
    "dataset['status'] = dataset['status'].str.replace(r'.*for sale*', 'For sale', regex= True)"
   ]
  },
  {
   "cell_type": "code",
   "execution_count": 952,
   "metadata": {},
   "outputs": [
    {
     "data": {
      "text/plain": [
       "For sale                199569\n",
       "Active                  105207\n",
       "foreclosure               6426\n",
       "New construction          5475\n",
       "Pending                   4702\n",
       "                         ...  \n",
       "Coming soon: Nov 17.         1\n",
       "Coming soon: Nov 25.         1\n",
       "Coming soon: Oct 24.         1\n",
       "Coming soon: Dec 27.         1\n",
       "Coming soon: Nov 12.         1\n",
       "Name: status, Length: 158, dtype: int64"
      ]
     },
     "execution_count": 952,
     "metadata": {},
     "output_type": "execute_result"
    }
   ],
   "source": [
    "dataset['status'].value_counts()"
   ]
  },
  {
   "cell_type": "code",
   "execution_count": 953,
   "metadata": {},
   "outputs": [
    {
     "data": {
      "text/plain": [
       "array(['$418,000', '$310,000', '$2,895,000', ..., '$528,000', '$34,500',\n",
       "       '$204,900'], dtype='<U18')"
      ]
     },
     "execution_count": 953,
     "metadata": {},
     "output_type": "execute_result"
    }
   ],
   "source": [
    "dataset.target.values.astype(str)"
   ]
  },
  {
   "cell_type": "code",
   "execution_count": 954,
   "metadata": {},
   "outputs": [],
   "source": [
    "# меняем формат солбца на строку\n",
    "dataset = dataset.astype({'target': np.str})"
   ]
  },
  {
   "cell_type": "code",
   "execution_count": 955,
   "metadata": {},
   "outputs": [],
   "source": [
    "# замена всех символов, кроме цифр\n",
    "dataset.target = dataset.target.apply(lambda x: x.replace('$', ''))\n",
    "dataset.target = dataset.target.apply(lambda x: x.replace(',', ''))\n",
    "dataset.target = dataset.target.apply(lambda x: x.replace('+', ''))\n",
    "dataset.target = dataset.target.apply(lambda x: x.replace('/', ''))\n",
    "dataset.target = dataset.target.apply(lambda x: x.replace('-', ''))\n",
    "dataset.target = dataset.target.apply(lambda x: x.replace('m', ''))\n",
    "dataset.target = dataset.target.apply(lambda x: x.replace('n', ''))\n",
    "dataset.target = dataset.target.apply(lambda x: x.replace('o', ''))\n",
    "dataset.target = dataset.target.apply(lambda x: x.replace(' ', ''))\n",
    "dataset.target = dataset.target.apply(lambda x: x.replace('a', ''))"
   ]
  },
  {
   "cell_type": "code",
   "execution_count": 956,
   "metadata": {},
   "outputs": [
    {
     "data": {
      "text/plain": [
       "0          418000\n",
       "1          310000\n",
       "2         2895000\n",
       "3         2395000\n",
       "4            5000\n",
       "           ...   \n",
       "377180    1249000\n",
       "377181     674999\n",
       "377182     528000\n",
       "377183      34500\n",
       "377184     204900\n",
       "Name: target, Length: 377185, dtype: object"
      ]
     },
     "execution_count": 956,
     "metadata": {},
     "output_type": "execute_result"
    }
   ],
   "source": [
    "dataset.target"
   ]
  },
  {
   "cell_type": "code",
   "execution_count": 957,
   "metadata": {},
   "outputs": [
    {
     "data": {
      "text/plain": [
       "array(['418000', '310000', '2895000', ..., '528000', '34500', '204900'],\n",
       "      dtype='<U9')"
      ]
     },
     "execution_count": 957,
     "metadata": {},
     "output_type": "execute_result"
    }
   ],
   "source": [
    "dataset.target.values.astype(str)"
   ]
  },
  {
   "cell_type": "code",
   "execution_count": 958,
   "metadata": {},
   "outputs": [],
   "source": [
    "# проверка на остатки символов\n",
    "full_set=set()\n",
    "for s in [set(str(p)) for p in dataset.target.values]:\n",
    "    full_set=full_set.union(s)"
   ]
  },
  {
   "cell_type": "code",
   "execution_count": 959,
   "metadata": {},
   "outputs": [
    {
     "data": {
      "text/plain": [
       "{'0', '1', '2', '3', '4', '5', '6', '7', '8', '9'}"
      ]
     },
     "execution_count": 959,
     "metadata": {},
     "output_type": "execute_result"
    }
   ],
   "source": [
    "full_set"
   ]
  },
  {
   "cell_type": "code",
   "execution_count": 960,
   "metadata": {},
   "outputs": [
    {
     "data": {
      "text/plain": [
       "0          418000.0\n",
       "1          310000.0\n",
       "2         2895000.0\n",
       "3         2395000.0\n",
       "4            5000.0\n",
       "            ...    \n",
       "377180    1249000.0\n",
       "377181     674999.0\n",
       "377182     528000.0\n",
       "377183      34500.0\n",
       "377184     204900.0\n",
       "Name: target, Length: 377185, dtype: float64"
      ]
     },
     "execution_count": 960,
     "metadata": {},
     "output_type": "execute_result"
    }
   ],
   "source": [
    "pd.to_numeric(dataset.target)"
   ]
  },
  {
   "cell_type": "code",
   "execution_count": 961,
   "metadata": {},
   "outputs": [
    {
     "data": {
      "text/plain": [
       "inf"
      ]
     },
     "execution_count": 961,
     "metadata": {},
     "output_type": "execute_result"
    }
   ],
   "source": [
    "dataset[dataset.status=='For sale'].target.mean()"
   ]
  },
  {
   "cell_type": "code",
   "execution_count": 962,
   "metadata": {},
   "outputs": [
    {
     "data": {
      "text/plain": [
       "           2481\n",
       "225000     1806\n",
       "275000     1650\n",
       "250000     1644\n",
       "350000     1641\n",
       "           ... \n",
       "161770        1\n",
       "1776250       1\n",
       "257765        1\n",
       "224052        1\n",
       "155992        1\n",
       "Name: target, Length: 34233, dtype: int64"
      ]
     },
     "execution_count": 962,
     "metadata": {},
     "output_type": "execute_result"
    }
   ],
   "source": [
    "# смотрим на часто встречающиеся значением\n",
    "dataset['target'].value_counts()"
   ]
  },
  {
   "cell_type": "code",
   "execution_count": 963,
   "metadata": {},
   "outputs": [],
   "source": [
    "# заполняем пропуски константой,самым часто часто встречающимся занчением\n",
    "dataset['target'].fillna(225000, inplace=True)"
   ]
  },
  {
   "cell_type": "code",
   "execution_count": 964,
   "metadata": {},
   "outputs": [],
   "source": [
    "# Замена NaN на значение 1-ого индекса, т.е. на 225 000\n",
    "dataset['target'].fillna(dataset['target'].value_counts().index[1],inplace=True)"
   ]
  },
  {
   "cell_type": "code",
   "execution_count": 965,
   "metadata": {},
   "outputs": [
    {
     "data": {
      "text/plain": [
       "0"
      ]
     },
     "execution_count": 965,
     "metadata": {},
     "output_type": "execute_result"
    }
   ],
   "source": [
    "# проверяем, что пропуски заполнены\n",
    "dataset['target'].isna().sum()"
   ]
  },
  {
   "cell_type": "code",
   "execution_count": 966,
   "metadata": {},
   "outputs": [
    {
     "data": {
      "text/plain": [
       "'9999999'"
      ]
     },
     "execution_count": 966,
     "metadata": {},
     "output_type": "execute_result"
    }
   ],
   "source": [
    "dataset[dataset.status=='For sale'].target.max()"
   ]
  },
  {
   "cell_type": "code",
   "execution_count": 967,
   "metadata": {},
   "outputs": [
    {
     "data": {
      "text/plain": [
       "'999999'"
      ]
     },
     "execution_count": 967,
     "metadata": {},
     "output_type": "execute_result"
    }
   ],
   "source": [
    "dataset[dataset.status=='Active'].target.max()"
   ]
  },
  {
   "cell_type": "code",
   "execution_count": 968,
   "metadata": {},
   "outputs": [
    {
     "data": {
      "text/plain": [
       "''"
      ]
     },
     "execution_count": 968,
     "metadata": {},
     "output_type": "execute_result"
    }
   ],
   "source": [
    "dataset[dataset.status=='For sale'].target.min()"
   ]
  },
  {
   "cell_type": "code",
   "execution_count": 969,
   "metadata": {},
   "outputs": [
    {
     "data": {
      "text/plain": [
       "nan"
      ]
     },
     "execution_count": 969,
     "metadata": {},
     "output_type": "execute_result"
    }
   ],
   "source": [
    "dataset[dataset.status=='Activ'].target.max()"
   ]
  },
  {
   "cell_type": "code",
   "execution_count": 970,
   "metadata": {},
   "outputs": [],
   "source": [
    "# заполняем пропуски константой,самым часто часто встречающимся занчением\n",
    "dataset['status'].fillna('For sale', inplace=True)"
   ]
  },
  {
   "cell_type": "code",
   "execution_count": 971,
   "metadata": {},
   "outputs": [
    {
     "data": {
      "text/plain": [
       "0"
      ]
     },
     "execution_count": 971,
     "metadata": {},
     "output_type": "execute_result"
    }
   ],
   "source": [
    "# проверяем, что пропуски заполнены\n",
    "dataset['status'].isna().sum()"
   ]
  },
  {
   "cell_type": "code",
   "execution_count": 972,
   "metadata": {},
   "outputs": [
    {
     "data": {
      "text/plain": [
       "Yes    4181\n",
       "Name: private pool, dtype: int64"
      ]
     },
     "execution_count": 972,
     "metadata": {},
     "output_type": "execute_result"
    }
   ],
   "source": [
    "dataset['private pool'].value_counts()"
   ]
  },
  {
   "cell_type": "code",
   "execution_count": 973,
   "metadata": {},
   "outputs": [],
   "source": [
    "dataset['private pool'].fillna('No', inplace=True)"
   ]
  },
  {
   "cell_type": "code",
   "execution_count": 974,
   "metadata": {},
   "outputs": [
    {
     "data": {
      "text/plain": [
       "No     373004\n",
       "Yes      4181\n",
       "Name: private pool, dtype: int64"
      ]
     },
     "execution_count": 974,
     "metadata": {},
     "output_type": "execute_result"
    }
   ],
   "source": [
    "# думаю, что нужно будет заменить на чиловые значения 1 и 2\n",
    "dataset['private pool'].value_counts()"
   ]
  },
  {
   "cell_type": "code",
   "execution_count": 975,
   "metadata": {},
   "outputs": [
    {
     "data": {
      "text/plain": [
       "yes    28793\n",
       "Yes    11518\n",
       "Name: PrivatePool, dtype: int64"
      ]
     },
     "execution_count": 975,
     "metadata": {},
     "output_type": "execute_result"
    }
   ],
   "source": [
    "dataset['PrivatePool'].value_counts()"
   ]
  },
  {
   "cell_type": "code",
   "execution_count": 976,
   "metadata": {},
   "outputs": [],
   "source": [
    "dataset['PrivatePool'] = dataset['PrivatePool'].str.replace(r'.*yes*', 'Yes', regex= True)"
   ]
  },
  {
   "cell_type": "code",
   "execution_count": 977,
   "metadata": {},
   "outputs": [
    {
     "data": {
      "text/plain": [
       "Yes    40311\n",
       "Name: PrivatePool, dtype: int64"
      ]
     },
     "execution_count": 977,
     "metadata": {},
     "output_type": "execute_result"
    }
   ],
   "source": [
    "dataset['PrivatePool'].value_counts()"
   ]
  },
  {
   "cell_type": "code",
   "execution_count": 978,
   "metadata": {},
   "outputs": [],
   "source": [
    "dataset['PrivatePool'].fillna('No', inplace=True)"
   ]
  },
  {
   "cell_type": "code",
   "execution_count": 979,
   "metadata": {},
   "outputs": [
    {
     "data": {
      "text/plain": [
       "No     336874\n",
       "Yes     40311\n",
       "Name: PrivatePool, dtype: int64"
      ]
     },
     "execution_count": 979,
     "metadata": {},
     "output_type": "execute_result"
    }
   ],
   "source": [
    "dataset['PrivatePool'].value_counts()"
   ]
  },
  {
   "cell_type": "code",
   "execution_count": 980,
   "metadata": {},
   "outputs": [],
   "source": [
    "dataset['Pool']=dataset['private pool'].astype(str) +'_'+ dataset['PrivatePool'].astype(str)"
   ]
  },
  {
   "cell_type": "code",
   "execution_count": 981,
   "metadata": {},
   "outputs": [
    {
     "data": {
      "text/plain": [
       "No_No     332693\n",
       "No_Yes     40311\n",
       "Yes_No      4181\n",
       "Name: Pool, dtype: int64"
      ]
     },
     "execution_count": 981,
     "metadata": {},
     "output_type": "execute_result"
    }
   ],
   "source": [
    "dataset['Pool'].value_counts()"
   ]
  },
  {
   "cell_type": "code",
   "execution_count": 982,
   "metadata": {},
   "outputs": [],
   "source": [
    "dataset.Pool = dataset.Pool.apply(lambda x: x.replace('No_No', 'No'))\n",
    "dataset.Pool = dataset.Pool.apply(lambda x: x.replace('No_Yes', 'Yes'))\n",
    "dataset.Pool = dataset.Pool.apply(lambda x: x.replace('Yes_No', 'Yes'))"
   ]
  },
  {
   "cell_type": "code",
   "execution_count": 983,
   "metadata": {},
   "outputs": [
    {
     "data": {
      "text/plain": [
       "No     332693\n",
       "Yes     44492\n",
       "Name: Pool, dtype: int64"
      ]
     },
     "execution_count": 983,
     "metadata": {},
     "output_type": "execute_result"
    }
   ],
   "source": [
    "dataset['Pool'].value_counts()"
   ]
  },
  {
   "cell_type": "code",
   "execution_count": 984,
   "metadata": {},
   "outputs": [],
   "source": [
    "# удаляем столбцы, на сонове которых создан новый признак\n",
    "dataset.drop(['private pool','PrivatePool'],axis=1,inplace=True)"
   ]
  },
  {
   "cell_type": "code",
   "execution_count": 985,
   "metadata": {},
   "outputs": [
    {
     "data": {
      "text/html": [
       "<div>\n",
       "<style scoped>\n",
       "    .dataframe tbody tr th:only-of-type {\n",
       "        vertical-align: middle;\n",
       "    }\n",
       "\n",
       "    .dataframe tbody tr th {\n",
       "        vertical-align: top;\n",
       "    }\n",
       "\n",
       "    .dataframe thead th {\n",
       "        text-align: right;\n",
       "    }\n",
       "</style>\n",
       "<table border=\"1\" class=\"dataframe\">\n",
       "  <thead>\n",
       "    <tr style=\"text-align: right;\">\n",
       "      <th></th>\n",
       "      <th>status</th>\n",
       "      <th>propertyType</th>\n",
       "      <th>street</th>\n",
       "      <th>baths</th>\n",
       "      <th>homeFacts</th>\n",
       "      <th>fireplace</th>\n",
       "      <th>city</th>\n",
       "      <th>schools</th>\n",
       "      <th>sqft</th>\n",
       "      <th>zipcode</th>\n",
       "      <th>beds</th>\n",
       "      <th>state</th>\n",
       "      <th>stories</th>\n",
       "      <th>mls-id</th>\n",
       "      <th>MlsId</th>\n",
       "      <th>target</th>\n",
       "      <th>Pool</th>\n",
       "    </tr>\n",
       "  </thead>\n",
       "  <tbody>\n",
       "    <tr>\n",
       "      <td>0</td>\n",
       "      <td>Active</td>\n",
       "      <td>Single Family Home</td>\n",
       "      <td>240 Heather Ln</td>\n",
       "      <td>3.5</td>\n",
       "      <td>{'atAGlanceFacts': [{'factValue': '2019', 'fac...</td>\n",
       "      <td>Gas Logs</td>\n",
       "      <td>Southern Pines</td>\n",
       "      <td>[{'rating': ['4', '4', '7', 'NR', '4', '7', 'N...</td>\n",
       "      <td>2900</td>\n",
       "      <td>28387</td>\n",
       "      <td>4</td>\n",
       "      <td>NC</td>\n",
       "      <td>NaN</td>\n",
       "      <td>NaN</td>\n",
       "      <td>611019</td>\n",
       "      <td>418000</td>\n",
       "      <td>No</td>\n",
       "    </tr>\n",
       "    <tr>\n",
       "      <td>1</td>\n",
       "      <td>For sale</td>\n",
       "      <td>single-family home</td>\n",
       "      <td>12911 E Heroy Ave</td>\n",
       "      <td>3 Baths</td>\n",
       "      <td>{'atAGlanceFacts': [{'factValue': '2019', 'fac...</td>\n",
       "      <td>NaN</td>\n",
       "      <td>Spokane Valley</td>\n",
       "      <td>[{'rating': ['4/10', 'None/10', '4/10'], 'data...</td>\n",
       "      <td>1,947 sqft</td>\n",
       "      <td>99216</td>\n",
       "      <td>3 Beds</td>\n",
       "      <td>WA</td>\n",
       "      <td>2.0</td>\n",
       "      <td>NaN</td>\n",
       "      <td>201916904</td>\n",
       "      <td>310000</td>\n",
       "      <td>No</td>\n",
       "    </tr>\n",
       "    <tr>\n",
       "      <td>2</td>\n",
       "      <td>For sale</td>\n",
       "      <td>single-family home</td>\n",
       "      <td>2005 Westridge Rd</td>\n",
       "      <td>2 Baths</td>\n",
       "      <td>{'atAGlanceFacts': [{'factValue': '1961', 'fac...</td>\n",
       "      <td>yes</td>\n",
       "      <td>Los Angeles</td>\n",
       "      <td>[{'rating': ['8/10', '4/10', '8/10'], 'data': ...</td>\n",
       "      <td>3,000 sqft</td>\n",
       "      <td>90049</td>\n",
       "      <td>3 Beds</td>\n",
       "      <td>CA</td>\n",
       "      <td>1.0</td>\n",
       "      <td>NaN</td>\n",
       "      <td>FR19221027</td>\n",
       "      <td>2895000</td>\n",
       "      <td>Yes</td>\n",
       "    </tr>\n",
       "    <tr>\n",
       "      <td>3</td>\n",
       "      <td>For sale</td>\n",
       "      <td>single-family home</td>\n",
       "      <td>4311 Livingston Ave</td>\n",
       "      <td>8 Baths</td>\n",
       "      <td>{'atAGlanceFacts': [{'factValue': '2006', 'fac...</td>\n",
       "      <td>yes</td>\n",
       "      <td>Dallas</td>\n",
       "      <td>[{'rating': ['9/10', '9/10', '10/10', '9/10'],...</td>\n",
       "      <td>6,457 sqft</td>\n",
       "      <td>75205</td>\n",
       "      <td>5 Beds</td>\n",
       "      <td>TX</td>\n",
       "      <td>3.0</td>\n",
       "      <td>NaN</td>\n",
       "      <td>14191809</td>\n",
       "      <td>2395000</td>\n",
       "      <td>No</td>\n",
       "    </tr>\n",
       "    <tr>\n",
       "      <td>4</td>\n",
       "      <td>For sale</td>\n",
       "      <td>lot/land</td>\n",
       "      <td>1524 Kiscoe St</td>\n",
       "      <td>NaN</td>\n",
       "      <td>{'atAGlanceFacts': [{'factValue': '', 'factLab...</td>\n",
       "      <td>NaN</td>\n",
       "      <td>Palm Bay</td>\n",
       "      <td>[{'rating': ['4/10', '5/10', '5/10'], 'data': ...</td>\n",
       "      <td>NaN</td>\n",
       "      <td>32908</td>\n",
       "      <td>NaN</td>\n",
       "      <td>FL</td>\n",
       "      <td>NaN</td>\n",
       "      <td>NaN</td>\n",
       "      <td>861745</td>\n",
       "      <td>5000</td>\n",
       "      <td>No</td>\n",
       "    </tr>\n",
       "    <tr>\n",
       "      <td>...</td>\n",
       "      <td>...</td>\n",
       "      <td>...</td>\n",
       "      <td>...</td>\n",
       "      <td>...</td>\n",
       "      <td>...</td>\n",
       "      <td>...</td>\n",
       "      <td>...</td>\n",
       "      <td>...</td>\n",
       "      <td>...</td>\n",
       "      <td>...</td>\n",
       "      <td>...</td>\n",
       "      <td>...</td>\n",
       "      <td>...</td>\n",
       "      <td>...</td>\n",
       "      <td>...</td>\n",
       "      <td>...</td>\n",
       "      <td>...</td>\n",
       "    </tr>\n",
       "    <tr>\n",
       "      <td>377180</td>\n",
       "      <td>For sale</td>\n",
       "      <td>Single Family</td>\n",
       "      <td>20800 NE 23rd Ave</td>\n",
       "      <td>6.0</td>\n",
       "      <td>{'atAGlanceFacts': [{'factValue': '1990', 'fac...</td>\n",
       "      <td>NaN</td>\n",
       "      <td>Miami</td>\n",
       "      <td>[{'rating': ['10/10', '5/10'], 'data': {'Dista...</td>\n",
       "      <td>4,017</td>\n",
       "      <td>33180</td>\n",
       "      <td>5</td>\n",
       "      <td>FL</td>\n",
       "      <td>0.0</td>\n",
       "      <td>NaN</td>\n",
       "      <td>A10702700</td>\n",
       "      <td>1249000</td>\n",
       "      <td>Yes</td>\n",
       "    </tr>\n",
       "    <tr>\n",
       "      <td>377181</td>\n",
       "      <td>For sale</td>\n",
       "      <td>condo</td>\n",
       "      <td>3530 N Lake Shore Dr #4B</td>\n",
       "      <td>3 Baths</td>\n",
       "      <td>{'atAGlanceFacts': [{'factValue': '1924', 'fac...</td>\n",
       "      <td>NaN</td>\n",
       "      <td>Chicago</td>\n",
       "      <td>[{'rating': ['1/10', '5/10', '7/10'], 'data': ...</td>\n",
       "      <td>2,000 sqft</td>\n",
       "      <td>60657</td>\n",
       "      <td>3 Beds</td>\n",
       "      <td>IL</td>\n",
       "      <td>9.0</td>\n",
       "      <td>NaN</td>\n",
       "      <td>10374233</td>\n",
       "      <td>674999</td>\n",
       "      <td>No</td>\n",
       "    </tr>\n",
       "    <tr>\n",
       "      <td>377182</td>\n",
       "      <td>For sale</td>\n",
       "      <td>single-family home</td>\n",
       "      <td>15509 Linden Blvd</td>\n",
       "      <td>3 Baths</td>\n",
       "      <td>{'atAGlanceFacts': [{'factValue': '1950', 'fac...</td>\n",
       "      <td>NaN</td>\n",
       "      <td>Jamaica</td>\n",
       "      <td>[{'rating': ['5/10', '4/10'], 'data': {'Distan...</td>\n",
       "      <td>1,152 sqft</td>\n",
       "      <td>11434</td>\n",
       "      <td>3 Beds</td>\n",
       "      <td>NY</td>\n",
       "      <td>2</td>\n",
       "      <td>NaN</td>\n",
       "      <td>NaN</td>\n",
       "      <td>528000</td>\n",
       "      <td>No</td>\n",
       "    </tr>\n",
       "    <tr>\n",
       "      <td>377183</td>\n",
       "      <td>For sale</td>\n",
       "      <td>NaN</td>\n",
       "      <td>7810 Pereida St</td>\n",
       "      <td>NaN</td>\n",
       "      <td>{'atAGlanceFacts': [{'factValue': None, 'factL...</td>\n",
       "      <td>NaN</td>\n",
       "      <td>Houston</td>\n",
       "      <td>[{'rating': ['NA', 'NA', 'NA'], 'data': {'Dist...</td>\n",
       "      <td>NaN</td>\n",
       "      <td>77028</td>\n",
       "      <td>8,479 sqft</td>\n",
       "      <td>TX</td>\n",
       "      <td>NaN</td>\n",
       "      <td>NaN</td>\n",
       "      <td>NaN</td>\n",
       "      <td>34500</td>\n",
       "      <td>No</td>\n",
       "    </tr>\n",
       "    <tr>\n",
       "      <td>377184</td>\n",
       "      <td>For sale</td>\n",
       "      <td>Single Family</td>\n",
       "      <td>5983 Midcrown Dr</td>\n",
       "      <td>2.0</td>\n",
       "      <td>{'atAGlanceFacts': [{'factValue': '2019', 'fac...</td>\n",
       "      <td>Not Applicable</td>\n",
       "      <td>San Antonio</td>\n",
       "      <td>[{'rating': ['5/10', '4/10', '3/10'], 'data': ...</td>\n",
       "      <td>1,462</td>\n",
       "      <td>78218</td>\n",
       "      <td>3</td>\n",
       "      <td>TX</td>\n",
       "      <td>1.0</td>\n",
       "      <td>NaN</td>\n",
       "      <td>1403619</td>\n",
       "      <td>204900</td>\n",
       "      <td>No</td>\n",
       "    </tr>\n",
       "  </tbody>\n",
       "</table>\n",
       "<p>377185 rows × 17 columns</p>\n",
       "</div>"
      ],
      "text/plain": [
       "          status        propertyType                    street    baths  \\\n",
       "0         Active  Single Family Home            240 Heather Ln      3.5   \n",
       "1       For sale  single-family home         12911 E Heroy Ave  3 Baths   \n",
       "2       For sale  single-family home         2005 Westridge Rd  2 Baths   \n",
       "3       For sale  single-family home       4311 Livingston Ave  8 Baths   \n",
       "4       For sale            lot/land            1524 Kiscoe St      NaN   \n",
       "...          ...                 ...                       ...      ...   \n",
       "377180  For sale       Single Family         20800 NE 23rd Ave      6.0   \n",
       "377181  For sale               condo  3530 N Lake Shore Dr #4B  3 Baths   \n",
       "377182  For sale  single-family home         15509 Linden Blvd  3 Baths   \n",
       "377183  For sale                 NaN           7810 Pereida St      NaN   \n",
       "377184  For sale       Single Family          5983 Midcrown Dr      2.0   \n",
       "\n",
       "                                                homeFacts       fireplace  \\\n",
       "0       {'atAGlanceFacts': [{'factValue': '2019', 'fac...        Gas Logs   \n",
       "1       {'atAGlanceFacts': [{'factValue': '2019', 'fac...             NaN   \n",
       "2       {'atAGlanceFacts': [{'factValue': '1961', 'fac...             yes   \n",
       "3       {'atAGlanceFacts': [{'factValue': '2006', 'fac...             yes   \n",
       "4       {'atAGlanceFacts': [{'factValue': '', 'factLab...             NaN   \n",
       "...                                                   ...             ...   \n",
       "377180  {'atAGlanceFacts': [{'factValue': '1990', 'fac...             NaN   \n",
       "377181  {'atAGlanceFacts': [{'factValue': '1924', 'fac...             NaN   \n",
       "377182  {'atAGlanceFacts': [{'factValue': '1950', 'fac...             NaN   \n",
       "377183  {'atAGlanceFacts': [{'factValue': None, 'factL...             NaN   \n",
       "377184  {'atAGlanceFacts': [{'factValue': '2019', 'fac...  Not Applicable   \n",
       "\n",
       "                  city                                            schools  \\\n",
       "0       Southern Pines  [{'rating': ['4', '4', '7', 'NR', '4', '7', 'N...   \n",
       "1       Spokane Valley  [{'rating': ['4/10', 'None/10', '4/10'], 'data...   \n",
       "2          Los Angeles  [{'rating': ['8/10', '4/10', '8/10'], 'data': ...   \n",
       "3               Dallas  [{'rating': ['9/10', '9/10', '10/10', '9/10'],...   \n",
       "4             Palm Bay  [{'rating': ['4/10', '5/10', '5/10'], 'data': ...   \n",
       "...                ...                                                ...   \n",
       "377180           Miami  [{'rating': ['10/10', '5/10'], 'data': {'Dista...   \n",
       "377181         Chicago  [{'rating': ['1/10', '5/10', '7/10'], 'data': ...   \n",
       "377182         Jamaica  [{'rating': ['5/10', '4/10'], 'data': {'Distan...   \n",
       "377183         Houston  [{'rating': ['NA', 'NA', 'NA'], 'data': {'Dist...   \n",
       "377184     San Antonio  [{'rating': ['5/10', '4/10', '3/10'], 'data': ...   \n",
       "\n",
       "              sqft zipcode        beds state stories mls-id       MlsId  \\\n",
       "0             2900   28387           4    NC     NaN    NaN      611019   \n",
       "1       1,947 sqft   99216      3 Beds    WA     2.0    NaN   201916904   \n",
       "2       3,000 sqft   90049      3 Beds    CA     1.0    NaN  FR19221027   \n",
       "3       6,457 sqft   75205      5 Beds    TX     3.0    NaN    14191809   \n",
       "4              NaN   32908         NaN    FL     NaN    NaN      861745   \n",
       "...            ...     ...         ...   ...     ...    ...         ...   \n",
       "377180       4,017   33180           5    FL     0.0    NaN   A10702700   \n",
       "377181  2,000 sqft   60657      3 Beds    IL     9.0    NaN    10374233   \n",
       "377182  1,152 sqft   11434      3 Beds    NY       2    NaN         NaN   \n",
       "377183         NaN   77028  8,479 sqft    TX     NaN    NaN         NaN   \n",
       "377184       1,462   78218           3    TX     1.0    NaN     1403619   \n",
       "\n",
       "         target Pool  \n",
       "0        418000   No  \n",
       "1        310000   No  \n",
       "2       2895000  Yes  \n",
       "3       2395000   No  \n",
       "4          5000   No  \n",
       "...         ...  ...  \n",
       "377180  1249000  Yes  \n",
       "377181   674999   No  \n",
       "377182   528000   No  \n",
       "377183    34500   No  \n",
       "377184   204900   No  \n",
       "\n",
       "[377185 rows x 17 columns]"
      ]
     },
     "execution_count": 985,
     "metadata": {},
     "output_type": "execute_result"
    }
   ],
   "source": [
    "dataset"
   ]
  },
  {
   "cell_type": "code",
   "execution_count": 986,
   "metadata": {},
   "outputs": [
    {
     "data": {
      "text/plain": [
       "single-family home                                                                92206\n",
       "Single Family                                                                     62869\n",
       "Single Family Home                                                                31728\n",
       "condo                                                                             25968\n",
       "lot/land                                                                          20552\n",
       "                                                                                  ...  \n",
       "Custom, Ranch, Traditional                                                            1\n",
       "1 Story, Cape Cod                                                                     1\n",
       "Lake House, Mid-Century Modern                                                        1\n",
       "Historical/Conservation District, Single Detached, Early American, Traditional        1\n",
       "Bungalow, Craftsman, Tudor                                                            1\n",
       "Name: propertyType, Length: 1280, dtype: int64"
      ]
     },
     "execution_count": 986,
     "metadata": {},
     "output_type": "execute_result"
    }
   ],
   "source": [
    "dataset['propertyType'].value_counts()"
   ]
  },
  {
   "cell_type": "code",
   "execution_count": 987,
   "metadata": {},
   "outputs": [],
   "source": [
    "dataset['propertyType'] = dataset['propertyType'].str.replace(r'.*single-family home*', 'Single Family', regex= True)\n",
    "dataset['propertyType'] = dataset['propertyType'].str.replace(r'.*Single Family Home*', 'Single Family', regex= True)\n",
    "dataset['propertyType'] = dataset['propertyType'].str.replace(r'.*condo*', 'Condo', regex= True)\n",
    "dataset['propertyType'] = dataset['propertyType'].str.replace(r'.*lot/land*', 'Land', regex= True)\n",
    "dataset['propertyType'] = dataset['propertyType'].str.replace(r'.*townhouse*', 'Townhouse', regex= True)\n",
    "dataset['propertyType'] = dataset['propertyType'].str.replace(r'.*multi-family*', 'Multi Family', regex= True)\n",
    "dataset['propertyType'] = dataset['propertyType'].str.replace(r'.*Multi-Family Home*', 'Multi Family', regex= True)\n",
    "dataset['propertyType'] = dataset['propertyType'].str.replace(r'.*Detached, One Story*', 'Single Detached, Traditional', regex= True)\n",
    "dataset['propertyType'] = dataset['propertyType'].str.replace(r'.*Colonial*', 'Condo', regex= True)\n",
    "dataset['propertyType'] = dataset['propertyType'].str.replace(r'.*mobile/manufactured*', 'Mobile / Manufactured', regex= True)\n",
    "dataset['propertyType'] = dataset['propertyType'].str.replace(r'.*Condo*', 'Apartment', regex= True)\n",
    "dataset['propertyType'] = dataset['propertyType'].str.replace(r'.*coop*', 'Cooperative', regex= True)\n",
    "dataset['propertyType'] = dataset['propertyType'].str.replace(r'.*apartment*', 'Apartment', regex= True)\n",
    "dataset['propertyType'] = dataset['propertyType'].str.replace(r'.*Two Story*', '2 Story', regex= True)\n",
    "dataset['propertyType'] = dataset['propertyType'].str.replace(r'.*One Story*', '1 Story', regex= True)\n",
    "dataset['propertyType'] = dataset['propertyType'].str.replace(r'.*2 Stories*', '2 Story', regex= True)\n",
    "dataset['propertyType'] = dataset['propertyType'].str.replace(r'.*2 Story, Traditional*', '2 Story', regex= True)\n",
    "dataset['propertyType'] = dataset['propertyType'].str.replace(r'.*Contemporary/Modern*', 'Contemporary', regex= True)\n",
    "dataset['propertyType'] = dataset['propertyType'].str.replace(r'.*Apartment/Townhome/Row Home/Co-Op*', 'Apartment', regex= True)\n",
    "dataset['propertyType'] = dataset['propertyType'].str.replace(r'.*Single Detached, Traditional*', 'Single Detached', regex= True)\n",
    "dataset['propertyType'] = dataset['propertyType'].str.replace(r'.*Contemporary, Traditional*', 'Contemporary', regex= True)\n",
    "dataset['propertyType'] = dataset['propertyType'].str.replace(r'.*Mfd/Mobile Home*', 'Mobile / Manufactured', regex= True)\n",
    "dataset['propertyType'] = dataset['propertyType'].str.replace(r'.*Other Style*', 'Other', regex= True)\n",
    "dataset['propertyType'] = dataset['propertyType'].str.replace(r'.*1 Story, Traditional*', '1 Story', regex= True)\n",
    "dataset['propertyType'] = dataset['propertyType'].str.replace(r'.*Apartment/Townhome, Traditional*', 'Apartment', regex= True)\n",
    "dataset['propertyType'] = dataset['propertyType'].str.replace(r'.*Apartment/Townhome*', 'Apartment', regex= True)"
   ]
  },
  {
   "cell_type": "code",
   "execution_count": 988,
   "metadata": {},
   "outputs": [
    {
     "data": {
      "text/plain": [
       "Single Family            186803\n",
       "Apartment                 52821\n",
       "Land                      31486\n",
       "Townhouse                 18402\n",
       "Multi Family              12195\n",
       "Traditional                5913\n",
       "Single Detached            3974\n",
       "Cooperative                3801\n",
       "Mobile / Manufactured      3476\n",
       "Contemporary               3316\n",
       "2 Story                    2468\n",
       "1 Story                    2269\n",
       "High Rise                  1823\n",
       "Ranch                      1781\n",
       "Transitional                560\n",
       "Florida                     530\n",
       "Other                       507\n",
       "Bungalow                    442\n",
       "Farms/Ranches               371\n",
       "Garden Home                 305\n",
       "Name: propertyType, dtype: int64"
      ]
     },
     "execution_count": 988,
     "metadata": {},
     "output_type": "execute_result"
    }
   ],
   "source": [
    "# можно будет дорпботать ещё, позднее\n",
    "dataset['propertyType'].value_counts().head(20)"
   ]
  },
  {
   "cell_type": "code",
   "execution_count": 989,
   "metadata": {},
   "outputs": [],
   "source": [
    "dataset['propertyType'].fillna('Single Family', inplace=True)"
   ]
  },
  {
   "cell_type": "code",
   "execution_count": 990,
   "metadata": {},
   "outputs": [
    {
     "data": {
      "text/plain": [
       "0"
      ]
     },
     "execution_count": 990,
     "metadata": {},
     "output_type": "execute_result"
    }
   ],
   "source": [
    "# проверяем, что пропуски заполнены\n",
    "dataset['propertyType'].isna().sum()"
   ]
  },
  {
   "cell_type": "code",
   "execution_count": 991,
   "metadata": {},
   "outputs": [],
   "source": [
    "# меняем формат солбца на строку\n",
    "dataset = dataset.astype({'street': np.str})"
   ]
  },
  {
   "cell_type": "code",
   "execution_count": 992,
   "metadata": {},
   "outputs": [],
   "source": [
    "dataset['street'] = dataset['street'].str.replace(r'.*Address Not Disclosed*', 'Unknown Address', regex= True)\n",
    "dataset['street'] = dataset['street'].str.replace(r'.*Undisclosed Address*', 'Unknown Address', regex= True)\n",
    "dataset['street'] = dataset['street'].str.replace(r'.*Address Not Available*', 'Unknown Address', regex= True)\n",
    "dataset['street'] = dataset['street'].str.replace(r'.*undisclosed Address*', 'Unknown Address', regex= True)"
   ]
  },
  {
   "cell_type": "code",
   "execution_count": 993,
   "metadata": {},
   "outputs": [],
   "source": [
    "dataset.street = dataset.street.apply(lambda x: x.replace(')', ''))"
   ]
  },
  {
   "cell_type": "code",
   "execution_count": 994,
   "metadata": {},
   "outputs": [
    {
     "data": {
      "text/plain": [
       "Unknown Address                1827\n",
       "2103 E State Hwy 21              57\n",
       "11305 Gulf Fwy                   54\n",
       "17030 Youngblood Rd.             38\n",
       "NE 58th Cir                      34\n",
       "9470 Lancaster Rd. SW            32\n",
       "1 Palmer Dr                      27\n",
       "8426 Terrace Valley Circle       25\n",
       "9845 Basil Western Rd NW         25\n",
       "6320 SW 89th Court Road          24\n",
       "8447 SW 99th Street Rd           22\n",
       "5221 S. Zapata Hwy               20\n",
       "Whitetail Trail                  19\n",
       "Stone Bluff Drive                18\n",
       "2005 West Happy Valley Road      17\n",
       "Boncher Blvd                     17\n",
       "1365 Neihart Way                 17\n",
       "24423 Ferdossa Drive             17\n",
       "1727 Opal Field Lane             17\n",
       "3423 Heather Garden Trail        17\n",
       "Name: street, dtype: int64"
      ]
     },
     "execution_count": 994,
     "metadata": {},
     "output_type": "execute_result"
    }
   ],
   "source": [
    "# смотрим значения\n",
    "dataset['street'].value_counts().head(20)"
   ]
  },
  {
   "cell_type": "code",
   "execution_count": 995,
   "metadata": {},
   "outputs": [],
   "source": [
    "# всего 2 пропуска в этом признаке\n",
    "dataset['street'].fillna('Unknown Address', inplace=True)"
   ]
  },
  {
   "cell_type": "code",
   "execution_count": 996,
   "metadata": {},
   "outputs": [
    {
     "data": {
      "text/plain": [
       "0"
      ]
     },
     "execution_count": 996,
     "metadata": {},
     "output_type": "execute_result"
    }
   ],
   "source": [
    "# проверяем, что пропуски заполнены\n",
    "dataset['street'].isna().sum()"
   ]
  },
  {
   "cell_type": "code",
   "execution_count": 997,
   "metadata": {},
   "outputs": [
    {
     "data": {
      "text/plain": [
       "2 Baths         52466\n",
       "3 Baths         35506\n",
       "2               20452\n",
       "2.0             16576\n",
       "4 Baths         14764\n",
       "3.0             10869\n",
       "3               10113\n",
       "Bathrooms: 2     9538\n",
       "2.5              8113\n",
       "Bathrooms: 3     6613\n",
       "Name: baths, dtype: int64"
      ]
     },
     "execution_count": 997,
     "metadata": {},
     "output_type": "execute_result"
    }
   ],
   "source": [
    "# смотрим на значения\n",
    "dataset['baths'].value_counts().head(10)"
   ]
  },
  {
   "cell_type": "code",
   "execution_count": 998,
   "metadata": {},
   "outputs": [
    {
     "data": {
      "text/plain": [
       "106338"
      ]
     },
     "execution_count": 998,
     "metadata": {},
     "output_type": "execute_result"
    }
   ],
   "source": [
    "dataset['baths'].isna().sum()"
   ]
  },
  {
   "cell_type": "code",
   "execution_count": 999,
   "metadata": {},
   "outputs": [],
   "source": [
    "# меняем формат солбца на строку\n",
    "dataset = dataset.astype({'baths': np.str})"
   ]
  },
  {
   "cell_type": "code",
   "execution_count": 1000,
   "metadata": {},
   "outputs": [],
   "source": [
    "dataset['baths'].fillna('2', inplace=True)"
   ]
  },
  {
   "cell_type": "code",
   "execution_count": 1001,
   "metadata": {},
   "outputs": [],
   "source": [
    "# оставляем только цифры и точки в нужных местах\n",
    "dataset['baths'] = dataset['baths'].str.replace(r\"[^\\d\\.]\", \"\", regex=True)"
   ]
  },
  {
   "cell_type": "code",
   "execution_count": 1038,
   "metadata": {},
   "outputs": [],
   "source": [
    "# оставляем только цифры и точки в нужных местах\n",
    "dataset['baths'] = dataset['baths'].str.replace(r\"[^\\..]\", \"2\", regex=True)"
   ]
  },
  {
   "cell_type": "code",
   "execution_count": 1039,
   "metadata": {},
   "outputs": [
    {
     "data": {
      "text/plain": [
       "''"
      ]
     },
     "execution_count": 1039,
     "metadata": {},
     "output_type": "execute_result"
    }
   ],
   "source": [
    "row = dataset['baths'].iloc[2266]\n",
    "row"
   ]
  },
  {
   "cell_type": "code",
   "execution_count": 1010,
   "metadata": {},
   "outputs": [
    {
     "data": {
      "text/plain": [
       "       107636\n",
       "2       85349\n",
       "3       54127\n",
       "4       21450\n",
       "2.0     16576\n",
       "Name: baths, dtype: int64"
      ]
     },
     "execution_count": 1010,
     "metadata": {},
     "output_type": "execute_result"
    }
   ],
   "source": [
    "dataset['baths'].value_counts().head(5)"
   ]
  },
  {
   "cell_type": "code",
   "execution_count": 940,
   "metadata": {
    "scrolled": true
   },
   "outputs": [
    {
     "data": {
      "text/plain": [
       "'..'"
      ]
     },
     "execution_count": 940,
     "metadata": {},
     "output_type": "execute_result"
    }
   ],
   "source": [
    "row = dataset['baths'].iloc[2266]\n",
    "row"
   ]
  },
  {
   "cell_type": "code",
   "execution_count": 1018,
   "metadata": {},
   "outputs": [
    {
     "data": {
      "text/plain": [
       "       107636\n",
       "2       85349\n",
       "3       54127\n",
       "4       21450\n",
       "220     16576\n",
       "Name: baths, dtype: int64"
      ]
     },
     "execution_count": 1018,
     "metadata": {},
     "output_type": "execute_result"
    }
   ],
   "source": [
    "dataset['baths'].value_counts().head(5)"
   ]
  },
  {
   "cell_type": "code",
   "execution_count": 1015,
   "metadata": {},
   "outputs": [
    {
     "data": {
      "text/plain": [
       "0"
      ]
     },
     "execution_count": 1015,
     "metadata": {},
     "output_type": "execute_result"
    }
   ],
   "source": [
    "dataset['baths'].isna().sum()"
   ]
  },
  {
   "cell_type": "code",
   "execution_count": 1004,
   "metadata": {},
   "outputs": [
    {
     "ename": "ValueError",
     "evalue": "Unable to parse string \"..\" at position 2266",
     "output_type": "error",
     "traceback": [
      "\u001b[1;31m---------------------------------------------------------------------------\u001b[0m",
      "\u001b[1;31mValueError\u001b[0m                                Traceback (most recent call last)",
      "\u001b[1;32mpandas\\_libs\\lib.pyx\u001b[0m in \u001b[0;36mpandas._libs.lib.maybe_convert_numeric\u001b[1;34m()\u001b[0m\n",
      "\u001b[1;31mValueError\u001b[0m: Unable to parse string \"..\"",
      "\nDuring handling of the above exception, another exception occurred:\n",
      "\u001b[1;31mValueError\u001b[0m                                Traceback (most recent call last)",
      "\u001b[1;32m<ipython-input-1004-3a805687713c>\u001b[0m in \u001b[0;36m<module>\u001b[1;34m\u001b[0m\n\u001b[1;32m----> 1\u001b[1;33m \u001b[0mpd\u001b[0m\u001b[1;33m.\u001b[0m\u001b[0mto_numeric\u001b[0m\u001b[1;33m(\u001b[0m\u001b[0mdataset\u001b[0m\u001b[1;33m.\u001b[0m\u001b[0mbaths\u001b[0m\u001b[1;33m)\u001b[0m\u001b[1;33m\u001b[0m\u001b[1;33m\u001b[0m\u001b[0m\n\u001b[0m",
      "\u001b[1;32mC:\\Anaconda3\\lib\\site-packages\\pandas\\core\\tools\\numeric.py\u001b[0m in \u001b[0;36mto_numeric\u001b[1;34m(arg, errors, downcast)\u001b[0m\n\u001b[0;32m    149\u001b[0m             \u001b[0mcoerce_numeric\u001b[0m \u001b[1;33m=\u001b[0m \u001b[0merrors\u001b[0m \u001b[1;32mnot\u001b[0m \u001b[1;32min\u001b[0m \u001b[1;33m(\u001b[0m\u001b[1;34m\"ignore\"\u001b[0m\u001b[1;33m,\u001b[0m \u001b[1;34m\"raise\"\u001b[0m\u001b[1;33m)\u001b[0m\u001b[1;33m\u001b[0m\u001b[1;33m\u001b[0m\u001b[0m\n\u001b[0;32m    150\u001b[0m             values = lib.maybe_convert_numeric(\n\u001b[1;32m--> 151\u001b[1;33m                 \u001b[0mvalues\u001b[0m\u001b[1;33m,\u001b[0m \u001b[0mset\u001b[0m\u001b[1;33m(\u001b[0m\u001b[1;33m)\u001b[0m\u001b[1;33m,\u001b[0m \u001b[0mcoerce_numeric\u001b[0m\u001b[1;33m=\u001b[0m\u001b[0mcoerce_numeric\u001b[0m\u001b[1;33m\u001b[0m\u001b[1;33m\u001b[0m\u001b[0m\n\u001b[0m\u001b[0;32m    152\u001b[0m             )\n\u001b[0;32m    153\u001b[0m \u001b[1;33m\u001b[0m\u001b[0m\n",
      "\u001b[1;32mpandas\\_libs\\lib.pyx\u001b[0m in \u001b[0;36mpandas._libs.lib.maybe_convert_numeric\u001b[1;34m()\u001b[0m\n",
      "\u001b[1;31mValueError\u001b[0m: Unable to parse string \"..\" at position 2266"
     ]
    }
   ],
   "source": [
    "pd.to_numeric(dataset.baths)"
   ]
  },
  {
   "cell_type": "code",
   "execution_count": null,
   "metadata": {},
   "outputs": [],
   "source": [
    "dataset.baths = dataset.baths.apply(lambda x: x.replace(',', '.'))\n",
    "dataset.baths = dataset.baths.apply(lambda x: x.replace('~', '.'))\n",
    "dataset.baths = dataset.baths.apply(lambda x: x.replace('+', '.'))"
   ]
  },
  {
   "cell_type": "code",
   "execution_count": null,
   "metadata": {},
   "outputs": [],
   "source": [
    "# проверка на остатки символов\n",
    "b_set=set()\n",
    "for s in [set(str(p)) for p in dataset.baths.values]:\n",
    "    b_set=full_set.union(s)"
   ]
  },
  {
   "cell_type": "code",
   "execution_count": null,
   "metadata": {},
   "outputs": [],
   "source": [
    "b_set"
   ]
  },
  {
   "cell_type": "code",
   "execution_count": null,
   "metadata": {},
   "outputs": [],
   "source": [
    "dataset['baths'] = dataset['baths'].str.replace(r'.*2 Baths*', '2', regex= True)\n",
    "dataset['baths'] = dataset['baths'].str.replace(r'.*3 Baths*', '3', regex= True)\n",
    "dataset['baths'] = dataset['baths'].str.replace(r'.*4 Baths*', '4', regex= True)\n",
    "dataset['baths'] = dataset['baths'].str.replace(r'.*5 Baths*', '5', regex= True)\n",
    "dataset['baths'] = dataset['baths'].str.replace(r'.*6 Baths*', '6', regex= True)\n",
    "dataset['baths'] = dataset['baths'].str.replace(r'.*7 Baths*', '7', regex= True)\n",
    "dataset['baths'] = dataset['baths'].str.replace(r'.*8 Baths*', '8', regex= True)\n",
    "dataset['baths'] = dataset['baths'].str.replace(r'.*9 Baths*', '9', regex= True)\n",
    "dataset['baths'] = dataset['baths'].str.replace(r'.*10 Baths*', '10', regex= True)\n",
    "dataset['baths'] = dataset['baths'].str.replace(r'.*11 Baths*', '11', regex= True)\n",
    "dataset['baths'] = dataset['baths'].str.replace(r'.*12 Baths*', '12', regex= True)\n",
    "dataset['baths'] = dataset['baths'].str.replace(r'.*13 Baths*', '13', regex= True)\n",
    "dataset['baths'] = dataset['baths'].str.replace(r'.*14 Baths*', '14', regex= True)\n",
    "dataset['baths'] = dataset['baths'].str.replace(r'.*15 Baths*', '15', regex= True)\n",
    "dataset['baths'] = dataset['baths'].str.replace(r'.*16 Baths*', '16', regex= True)\n",
    "dataset['baths'] = dataset['baths'].str.replace(r'.*17 Baths*', '17', regex= True)\n",
    "dataset['baths'] = dataset['baths'].str.replace(r'.*18 Baths*', '18', regex= True)\n",
    "dataset['baths'] = dataset['baths'].str.replace(r'.*19 Baths*', '19', regex= True)\n",
    "dataset['baths'] = dataset['baths'].str.replace(r'.*20 Baths*', '20', regex= True)\n",
    "dataset['baths'] = dataset['baths'].str.replace(r'.*21 Baths*', '21', regex= True)\n",
    "dataset['baths'] = dataset['baths'].str.replace(r'.*2.5 Baths*', '2.5', regex= True)\n",
    "dataset['baths'] = dataset['baths'].str.replace(r'.*Bathrooms: 1*', '1', regex= True)\n",
    "dataset['baths'] = dataset['baths'].str.replace(r'.*Bathrooms: 2*', '2', regex= True)\n",
    "dataset['baths'] = dataset['baths'].str.replace(r'.*Bathrooms: 3*', '3', regex= True)\n",
    "dataset['baths'] = dataset['baths'].str.replace(r'.*Bathrooms: 4*', '4', regex= True)\n",
    "dataset['baths'] = dataset['baths'].str.replace(r'.*3 ba*', '3', regex= True)\n",
    "dataset['baths'] = dataset['baths'].str.replace(r'.*1 ba*', '1', regex= True)\n",
    "dataset['baths'] = dataset['baths'].str.replace(r'.*2 ba*', '2', regex= True)\n",
    "dataset['baths'] = dataset['baths'].str.replace(r'.*4 ba*', '4', regex= True)\n",
    "dataset['baths'] = dataset['baths'].str.replace(r'.*5 ba*', '5', regex= True)\n",
    "dataset['baths'] = dataset['baths'].str.replace(r'.*6 ba*', '6', regex= True)\n",
    "dataset['baths'] = dataset['baths'].str.replace(r'.*-- baths*', '2', regex= True)"
   ]
  },
  {
   "cell_type": "code",
   "execution_count": null,
   "metadata": {},
   "outputs": [],
   "source": [
    "# смотрим на значения!!!!!!!!!!!!!!!!\n",
    "dataset['baths'].value_counts().tail(50)"
   ]
  },
  {
   "cell_type": "code",
   "execution_count": null,
   "metadata": {
    "scrolled": true
   },
   "outputs": [],
   "source": [
    "dataset['homeFacts'].value_counts()"
   ]
  },
  {
   "cell_type": "code",
   "execution_count": null,
   "metadata": {},
   "outputs": [],
   "source": [
    "dataset['fireplace'].value_counts().head(30)"
   ]
  },
  {
   "cell_type": "code",
   "execution_count": null,
   "metadata": {},
   "outputs": [],
   "source": [
    "dataset['fireplace']=a\n",
    "if i in a=No:\n",
    "    i=no\n",
    "elif a= Yes"
   ]
  },
  {
   "cell_type": "code",
   "execution_count": null,
   "metadata": {},
   "outputs": [],
   "source": [
    "dataset['fireplace']"
   ]
  },
  {
   "cell_type": "code",
   "execution_count": null,
   "metadata": {},
   "outputs": [],
   "source": [
    "dataset['city'].value_counts().head(10)"
   ]
  },
  {
   "cell_type": "code",
   "execution_count": null,
   "metadata": {},
   "outputs": [],
   "source": [
    "# всего 34 пропуска в этом признаке\n",
    "dataset['city'].fillna('Houston', inplace=True)"
   ]
  },
  {
   "cell_type": "code",
   "execution_count": null,
   "metadata": {},
   "outputs": [],
   "source": [
    "# проверяем, что пропуски заполнены\n",
    "dataset['city'].isna().sum()"
   ]
  },
  {
   "cell_type": "code",
   "execution_count": null,
   "metadata": {},
   "outputs": [],
   "source": [
    "dataset['schools'].value_counts()"
   ]
  },
  {
   "cell_type": "code",
   "execution_count": null,
   "metadata": {},
   "outputs": [],
   "source": [
    "dataset['sqft'].value_counts()"
   ]
  },
  {
   "cell_type": "code",
   "execution_count": null,
   "metadata": {},
   "outputs": [],
   "source": [
    "dataset['zipcode'].value_counts()"
   ]
  },
  {
   "cell_type": "code",
   "execution_count": null,
   "metadata": {},
   "outputs": [],
   "source": [
    "dataset['beds'].value_counts()"
   ]
  },
  {
   "cell_type": "code",
   "execution_count": null,
   "metadata": {},
   "outputs": [],
   "source": [
    "dataset['state'].value_counts()"
   ]
  },
  {
   "cell_type": "code",
   "execution_count": null,
   "metadata": {},
   "outputs": [],
   "source": [
    "dataset['stories'].value_counts()"
   ]
  },
  {
   "cell_type": "code",
   "execution_count": null,
   "metadata": {},
   "outputs": [],
   "source": [
    "dataset['mls-id'].value_counts()"
   ]
  },
  {
   "cell_type": "code",
   "execution_count": null,
   "metadata": {},
   "outputs": [],
   "source": [
    "dataset['MlsId'].value_counts()"
   ]
  },
  {
   "cell_type": "code",
   "execution_count": null,
   "metadata": {},
   "outputs": [],
   "source": [
    "# перебор элементов словаря\n",
    "rainbow_dict = {'каждый': 'красный', \n",
    "                'охотник': 'оранжевый', \n",
    "                'желает': 'жёлтый', \n",
    "                'знать': 'зелёный', \n",
    "                'где': 'голубой', \n",
    "                'сидит': 'синий', \n",
    "                'фазан': 'фиолетовый'}\n",
    "\n",
    "# Перебираем ключи\n",
    "for word in rainbow_dict.keys():\n",
    "    print(word)\n",
    "\n",
    "# Перебираем значения\n",
    "for color in rainbow_dict.values():\n",
    "    print(color)\n",
    "\n",
    "# Перебираем пары ключ-значение\n",
    "for word, color in rainbow_dict.items():\n",
    "    print(word, color)"
   ]
  },
  {
   "cell_type": "code",
   "execution_count": null,
   "metadata": {},
   "outputs": [],
   "source": [
    "string = 'Вы - самый крутой студент в SkillFactory'\n",
    "for letter in string:\n",
    "    print(letter, end = '')"
   ]
  },
  {
   "cell_type": "code",
   "execution_count": null,
   "metadata": {},
   "outputs": [],
   "source": [
    "city_list = ['Москва', 'Санкт-Петербург', 'Новосибирск', \n",
    "             'Екатеринбург', 'Нижний Новгород', 'Казань', \n",
    "             'Челябинск', 'Омск', 'Самара', 'Ростов-на-Дону']"
   ]
  },
  {
   "cell_type": "code",
   "execution_count": null,
   "metadata": {},
   "outputs": [],
   "source": [
    "counter = 0\n",
    "for city in city_list:\n",
    "    if ' ' in city or '-' in city:\n",
    "        counter += 1\n",
    "print('Число городов со сложными названиями - {}'.format(counter))"
   ]
  },
  {
   "cell_type": "code",
   "execution_count": null,
   "metadata": {},
   "outputs": [],
   "source": [
    "email = 'VeryBigBoss@skillfactory.ru'\n",
    "pos = email.find('@')\n",
    "domain = email[pos+1:]\n",
    "domain"
   ]
  },
  {
   "cell_type": "code",
   "execution_count": null,
   "metadata": {},
   "outputs": [],
   "source": [
    "new_numbers = []\n",
    "for number in '3,14 2,71 6,02 11,22 123,987'.split():\n",
    "    new_numbers.append(float(number.replace(',', '.')))\n",
    "new_numbers "
   ]
  },
  {
   "cell_type": "code",
   "execution_count": null,
   "metadata": {},
   "outputs": [],
   "source": [
    "# f = open('StudentsPerformance.csv')\n",
    "males = 0\n",
    "females = 0\n",
    "for line in f:\n",
    "    info = line.split(',')\n",
    "    gender = info[0][1:-1]\n",
    "    if gender == 'female':\n",
    "        females += 1\n",
    "    elif gender == 'male':\n",
    "        males +=1\n",
    "print('Мальчиков: {}, девочек: {}'.format(males, females))"
   ]
  }
 ],
 "metadata": {
  "kernelspec": {
   "display_name": "Python 3",
   "language": "python",
   "name": "python3"
  },
  "language_info": {
   "codemirror_mode": {
    "name": "ipython",
    "version": 3
   },
   "file_extension": ".py",
   "mimetype": "text/x-python",
   "name": "python",
   "nbconvert_exporter": "python",
   "pygments_lexer": "ipython3",
   "version": "3.7.4"
  }
 },
 "nbformat": 4,
 "nbformat_minor": 2
}
